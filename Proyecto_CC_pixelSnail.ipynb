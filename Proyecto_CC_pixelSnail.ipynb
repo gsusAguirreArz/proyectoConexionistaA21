{
 "cells": [
  {
   "cell_type": "markdown",
   "metadata": {
    "colab_type": "text",
    "id": "view-in-github"
   },
   "source": [
    "<a href=\"https://colab.research.google.com/github/gsusAguirreArz/proyectoConexionistaA21/blob/master/Proyecto_CC_pixelSnail.ipynb\" target=\"_parent\"><img src=\"https://colab.research.google.com/assets/colab-badge.svg\" alt=\"Open In Colab\"/></a>"
   ]
  },
  {
   "cell_type": "markdown",
   "metadata": {
    "id": "EX1fBe-AdMPW"
   },
   "source": [
    "Texto AQUI yo puse algo :P \n"
   ]
  },
  {
   "cell_type": "code",
   "execution_count": 1,
   "metadata": {
    "id": "FqiZlz1od8jM"
   },
   "outputs": [],
   "source": [
    "#Código 1\n",
    "import numpy as np\n",
    "import matplotlib.pyplot as plt\n",
    "import tensorflow as tf"
   ]
  },
  {
   "cell_type": "code",
   "execution_count": 2,
   "metadata": {
    "id": "yq4NIRBmd97H"
   },
   "outputs": [],
   "source": [
    "#Código 2 :D "
   ]
  },
  {
   "cell_type": "code",
   "execution_count": 3,
   "metadata": {},
   "outputs": [],
   "source": [
    "# ESTE ES MI SEGUNDO EDIT: pepe paco\n"
   ]
  },
  {
   "cell_type": "code",
   "execution_count": 6,
   "metadata": {},
   "outputs": [],
   "source": [
    "def deflected_CR():\n",
    "    file = np.load(\"data\\cosmic_ray_sphere\\dataset_HAP.npz\")\n",
    "    X_train, X_test = file['data'][:-10000], file['data'][-10000:]\n",
    "    labels = tf.keras.utils.to_categorical(file['label'], num_classes=2)\n",
    "    y_train, y_test = labels[:-10000], labels[-10000:]\n",
    "    return X_train, X_test, y_test, y_test"
   ]
  },
  {
   "cell_type": "code",
   "execution_count": 7,
   "metadata": {},
   "outputs": [
    {
     "name": "stdout",
     "output_type": "stream",
     "text": [
      "40000\n"
     ]
    }
   ],
   "source": [
    "X_train, X_test, y_train, y_test = deflected_CR()\n",
    "print(len(X_train))"
   ]
  },
  {
   "cell_type": "code",
   "execution_count": 9,
   "metadata": {},
   "outputs": [
    {
     "data": {
      "text/plain": [
       "array([[0., 1.],\n",
       "       [0., 1.],\n",
       "       [0., 1.],\n",
       "       ...,\n",
       "       [1., 0.],\n",
       "       [1., 0.],\n",
       "       [1., 0.]], dtype=float32)"
      ]
     },
     "execution_count": 9,
     "metadata": {},
     "output_type": "execute_result"
    }
   ],
   "source": [
    "y_train"
   ]
  },
  {
   "cell_type": "code",
   "execution_count": null,
   "metadata": {},
   "outputs": [],
   "source": []
  }
 ],
 "metadata": {
  "colab": {
   "authorship_tag": "ABX9TyP+89Czz8C04OGpaqNxcBB2",
   "include_colab_link": true,
   "name": "Proyecto CC - pixelSnail",
   "provenance": []
  },
  "interpreter": {
   "hash": "8d9606fcf26393c92ce44c12eab3202882d03a24dcf9ebed3735cc1d2f718074"
  },
  "kernelspec": {
   "display_name": "Python 3",
   "language": "python",
   "name": "python3"
  },
  "language_info": {
   "codemirror_mode": {
    "name": "ipython",
    "version": 3
   },
   "file_extension": ".py",
   "mimetype": "text/x-python",
   "name": "python",
   "nbconvert_exporter": "python",
   "pygments_lexer": "ipython3",
   "version": "3.7.9"
  }
 },
 "nbformat": 4,
 "nbformat_minor": 4
}