{
  "nbformat": 4,
  "nbformat_minor": 0,
  "metadata": {
    "accelerator": "GPU",
    "colab": {
      "name": "Proyecto Simpson - CNN",
      "provenance": [],
      "collapsed_sections": [],
      "toc_visible": true,
      "mount_file_id": "1gbyWhfqzpv4vwjkVp7JY2z1s4JLYFX2N",
      "authorship_tag": "ABX9TyMMcFv5hps5EPLu2vQUP+xo",
      "include_colab_link": true
    },
    "kernelspec": {
      "display_name": "Python 3",
      "name": "python3"
    },
    "language_info": {
      "name": "python"
    }
  },
  "cells": [
    {
      "cell_type": "markdown",
      "metadata": {
        "id": "view-in-github",
        "colab_type": "text"
      },
      "source": [
        "<a href=\"https://colab.research.google.com/github/gsusAguirreArz/proyectoConexionistaA21/blob/master/Proyecto_Simpson_CNN.ipynb\" target=\"_parent\"><img src=\"https://colab.research.google.com/assets/colab-badge.svg\" alt=\"Open In Colab\"/></a>"
      ]
    },
    {
      "cell_type": "markdown",
      "metadata": {
        "id": "tTqgGXzEFKeu"
      },
      "source": [
        "# Proyecto Simpson -CNN\n",
        "A continuación se listan las partes, si tiene un # a la derecha se ha comentado para evitar la demora de dichas tareas:\n",
        "- Etapa 1: Cargado y preprocesado\n",
        "  - Ejemplo\n",
        "  - Preprocesado #\n",
        "  - Carga de preprocesamientos\n",
        "  - Entrada de los datos\n",
        "- Etapa 2: Diseño de la red\n",
        "  - Objeto CNN\n",
        "  - Implementación \n",
        "  - Entrenamiento   #\n",
        "  - Guardado de la red entrenada #\n",
        "  - Cargado de los valores entrenados\n",
        "  - Resumen del modelo cargado  \n",
        "- Etapa 3: Implementado en Tensorboard\n",
        "- Etapa 4: Desarrollo de visualización de pesos (propio)"
      ]
    },
    {
      "cell_type": "markdown",
      "metadata": {
        "id": "7BInyyYjdk4S"
      },
      "source": [
        "## Resumen de la arquitectura\n",
        "- Inicialización de la red: \n",
        "  - distribución normal centrada en 0 con varianza de 0.001\n",
        "- Forma de la red: \n",
        "  - Convolucional 5x5, de 3 a 8\n",
        "  - MaxPooling 2x2, stride de 2\n",
        "  - Normalizado de salidas\n",
        "  - Convolucional 3x3, de 8 a 16\n",
        "  - MaxPooling 2x2, stride de 2\n",
        "  - Normalizado de salidas\n",
        "  - Flateen  a 4096 pesos\n",
        "  - Completamente conectada a 256\n",
        "  - Completamente conectada a número de personajes a usar\n",
        "- Forma de la entrada:\n",
        "  - Imagen de $64 * 64 * 3$ \n",
        "- Optimizador: \n",
        "  - Adam, Lr= 0.01, Epsilon = 1e-8\n",
        "- BatchSize: 256\n",
        "- Early Stopping al 99/90 de precisión (training/test)\n",
        "- Personajes: 20\n"
      ]
    },
    {
      "cell_type": "code",
      "metadata": {
        "id": "eel6a5iDFK08"
      },
      "source": [
        "# Bloque de imports\n",
        "import numpy as np\n",
        "import matplotlib.pyplot as plt\n",
        "%matplotlib inline  \n",
        "\n",
        "from PIL import Image,ImageOps #Libreria de imagenes\n",
        "import os\n",
        "import pickle\n",
        "\n",
        "from sklearn.model_selection import train_test_split\n",
        "from sklearn.preprocessing import OneHotEncoder\n",
        "from sklearn.utils import shuffle #porque sino vamos a meter en orden las cosas***\n",
        "import tensorflow as tf\n",
        "\n",
        "\n",
        "#Para tensorboard:\n",
        "%load_ext tensorboard\n",
        "import datetime\n",
        "\n"
      ],
      "execution_count": 1,
      "outputs": []
    },
    {
      "cell_type": "markdown",
      "metadata": {
        "id": "mmczgLw0CYom"
      },
      "source": [
        "### Etapa 1: Cargado y preprocesado\n"
      ]
    },
    {
      "cell_type": "code",
      "metadata": {
        "colab": {
          "base_uri": "https://localhost:8080/"
        },
        "id": "RZk0u_6BEwBC",
        "outputId": "47c972ca-db70-47e7-fa3f-ac43791bdc10"
      },
      "source": [
        "from google.colab import drive\n",
        "drive.mount('/content/drive')"
      ],
      "execution_count": 2,
      "outputs": [
        {
          "output_type": "stream",
          "text": [
            "Drive already mounted at /content/drive; to attempt to forcibly remount, call drive.mount(\"/content/drive\", force_remount=True).\n"
          ],
          "name": "stdout"
        }
      ]
    },
    {
      "cell_type": "code",
      "metadata": {
        "colab": {
          "base_uri": "https://localhost:8080/"
        },
        "id": "SSaIh-mSE5e9",
        "outputId": "e63d1d77-08da-41ec-cd25-c21e44bd2664"
      },
      "source": [
        "!ls \"/content/drive/My Drive/Colab Notebooks/CIC-RNA-avanzadas-Duchanoy/Proyecto CNN Simpson\"\n"
      ],
      "execution_count": 3,
      "outputs": [
        {
          "output_type": "stream",
          "text": [
            "'Borrador proyecto Simpson - CNN'   CNN1_Modelo_3   logs\n",
            " CNN1_Modelo_1\t\t\t    CNN1_Modelo_5  'Proyecto Simpson - CNN'\n",
            " CNN1_Modelo_2\t\t\t    data\n"
          ],
          "name": "stdout"
        }
      ]
    },
    {
      "cell_type": "code",
      "metadata": {
        "colab": {
          "base_uri": "https://localhost:8080/"
        },
        "id": "9siT3ydfIP5v",
        "outputId": "e04f8e92-3dbf-42b7-9215-466839f02914"
      },
      "source": [
        "cd /content/drive/My Drive/Colab Notebooks/CIC-RNA-avanzadas-Duchanoy/Proyecto CNN Simpson"
      ],
      "execution_count": 4,
      "outputs": [
        {
          "output_type": "stream",
          "text": [
            "/content/drive/My Drive/Colab Notebooks/CIC-RNA-avanzadas-Duchanoy/Proyecto CNN Simpson\n"
          ],
          "name": "stdout"
        }
      ]
    },
    {
      "cell_type": "code",
      "metadata": {
        "id": "IQnTx5PkHy1M"
      },
      "source": [
        "#paths declarados de utilidad\n",
        "dir= !pwd\n",
        "dirTrain   = dir[0] + '/data/simpsons_dataset'\n",
        "dirTest    = dir[0] + '/data/simpsons_testdataset'\n",
        "dirTrainP  = dir[0] + '/data/trainPrep'\n",
        "dirTestP   = dir[0] + '/data/testPrep'\n"
      ],
      "execution_count": 5,
      "outputs": []
    },
    {
      "cell_type": "code",
      "metadata": {
        "colab": {
          "base_uri": "https://localhost:8080/"
        },
        "id": "7ozwn4lPMo8_",
        "outputId": "8e3f0d16-ef10-4cab-8fa8-0058c1272d16"
      },
      "source": [
        "#Contenido del directorio general\n",
        "os.listdir()"
      ],
      "execution_count": 6,
      "outputs": [
        {
          "output_type": "execute_result",
          "data": {
            "text/plain": [
              "['Proyecto Simpson - CNN',\n",
              " 'data',\n",
              " 'CNN1_Modelo_1',\n",
              " 'CNN1_Modelo_2',\n",
              " 'Borrador proyecto Simpson - CNN',\n",
              " 'CNN1_Modelo_3',\n",
              " 'CNN1_Modelo_5',\n",
              " 'logs']"
            ]
          },
          "metadata": {
            "tags": []
          },
          "execution_count": 6
        }
      ]
    },
    {
      "cell_type": "code",
      "metadata": {
        "id": "G_LqeWaf6p73"
      },
      "source": [
        "#Listado de personajes\n",
        "os.chdir(dirTest)\n",
        "personajes=os.listdir()"
      ],
      "execution_count": 7,
      "outputs": []
    },
    {
      "cell_type": "code",
      "metadata": {
        "id": "Ro57SzGUJAaF"
      },
      "source": [
        "os.chdir(dirTrain)\n",
        "ejemploName = os.listdir()[-1]"
      ],
      "execution_count": 8,
      "outputs": []
    },
    {
      "cell_type": "code",
      "metadata": {
        "colab": {
          "base_uri": "https://localhost:8080/"
        },
        "id": "MWlQ7fRLLxy-",
        "outputId": "74894b8b-d5fd-48ec-833e-5b07aa77cd2b"
      },
      "source": [
        "os.chdir(dirTrain+'/'+ejemploName)\n",
        "os.listdir()[:5]\n",
        "#Nombres de los primeros 10 archivos, abriremos el primero"
      ],
      "execution_count": 9,
      "outputs": [
        {
          "output_type": "execute_result",
          "data": {
            "text/plain": [
              "['27pic_0000.jpg',\n",
              " '27pic_0004.jpg',\n",
              " '27pic_0006.jpg',\n",
              " '27pic_0005.jpg',\n",
              " '27pic_0007.jpg']"
            ]
          },
          "metadata": {
            "tags": []
          },
          "execution_count": 9
        }
      ]
    },
    {
      "cell_type": "code",
      "metadata": {
        "id": "0idOQgRwNdBg"
      },
      "source": [
        "imagenEjemplo = dirTrain+'/'+ejemploName+'/'+os.listdir()[0]"
      ],
      "execution_count": 10,
      "outputs": []
    },
    {
      "cell_type": "code",
      "metadata": {
        "id": "ieHKI6tkKtNq"
      },
      "source": [
        "imagen = Image.open(imagenEjemplo)"
      ],
      "execution_count": 11,
      "outputs": []
    },
    {
      "cell_type": "markdown",
      "metadata": {
        "id": "Qnqc9bMSOdUZ"
      },
      "source": [
        "#### Preprocesado\n",
        "\n",
        "Se cargará imagen por imagen y se guardarán ya procesadas"
      ]
    },
    {
      "cell_type": "markdown",
      "metadata": {
        "id": "MUbV_cjJO677"
      },
      "source": [
        "##### Ejemplo del preprocesamiento"
      ]
    },
    {
      "cell_type": "code",
      "metadata": {
        "colab": {
          "base_uri": "https://localhost:8080/"
        },
        "id": "SiGlQX-8KtQI",
        "outputId": "9a43db66-f37c-4d4d-bc05-7372d2d0cf50"
      },
      "source": [
        "np.array(imagen).shape"
      ],
      "execution_count": 12,
      "outputs": [
        {
          "output_type": "execute_result",
          "data": {
            "text/plain": [
              "(416, 288, 3)"
            ]
          },
          "metadata": {
            "tags": []
          },
          "execution_count": 12
        }
      ]
    },
    {
      "cell_type": "code",
      "metadata": {
        "colab": {
          "base_uri": "https://localhost:8080/",
          "height": 117
        },
        "id": "oo40Oo9fPgcf",
        "outputId": "173e342f-7d43-4f8b-cf3e-b0cdeb39a342"
      },
      "source": [
        "#resize a 100x100 pixeles\n",
        "imagen = imagen.resize((100,100)) \n",
        "imagen "
      ],
      "execution_count": 13,
      "outputs": [
        {
          "output_type": "execute_result",
          "data": {
            "image/png": "[encoded data removed]",
            "text/plain": [
              "<PIL.Image.Image image mode=RGB size=100x100 at 0x7F84A77B7B90>"
            ]
          },
          "metadata": {
            "tags": []
          },
          "execution_count": 13
        }
      ]
    },
    {
      "cell_type": "code",
      "metadata": {
        "colab": {
          "base_uri": "https://localhost:8080/",
          "height": 167
        },
        "id": "LWIbXyHeKtT0",
        "outputId": "41a2eddf-99ea-419f-a892-be8f2e3f4919"
      },
      "source": [
        "#Ilustración de las 3 capas a usar\n",
        "imagen2 = np.array(imagen)\n",
        "imagen2.shape\n",
        "imagen2=imagen2.transpose( 2,0,1 )\n",
        "\n",
        "fig1 = plt.figure(figsize=(6,10))\n",
        "ax   = fig1.add_subplot(1,3,1)\n",
        "ax.imshow(imagen2[0],cmap='gray')\n",
        "ax   = fig1.add_subplot(1,3,2)\n",
        "ax.imshow(imagen2[1],cmap='gray')\n",
        "ax   = fig1.add_subplot(1,3,3)\n",
        "ax.imshow(imagen2[2],cmap='gray')\n"
      ],
      "execution_count": 14,
      "outputs": [
        {
          "output_type": "execute_result",
          "data": {
            "text/plain": [
              "<matplotlib.image.AxesImage at 0x7f84a7713bd0>"
            ]
          },
          "metadata": {
            "tags": []
          },
          "execution_count": 14
        },
        {
          "output_type": "display_data",
          "data": {
            "image/png": "[encoded data removed]",
            "text/plain": [
              "<Figure size 432x720 with 3 Axes>"
            ]
          },
          "metadata": {
            "tags": [],
            "needs_background": "light"
          }
        }
      ]
    },
    {
      "cell_type": "markdown",
      "metadata": {
        "id": "vzZXRgxaJoaT"
      },
      "source": [
        "##### Funciones para carga, preprocesado y guardado"
      ]
    },
    {
      "cell_type": "code",
      "metadata": {
        "id": "AOEOnSg0SX28"
      },
      "source": [
        "#función para preprocesar datos:\n",
        "def PreprocesarDatos(dirOrigen,dirDestino,numeroInicio,numeroFin,resize,personajes):\n",
        "  for personaje in personajes[numeroInicio:numeroFin]:  \n",
        "    os.chdir(dirDestino) \n",
        "\n",
        "    #Creamos carpeta con el nombre del personaje\n",
        "    try:\n",
        "      os.chdir( os.getcwd() +'/'+personaje)  \n",
        "    except FileNotFoundError:\n",
        "      os.mkdir( os.getcwd()+ '/'+personaje  )  \n",
        "\n",
        "    #Nos movemos a la ubicación de imagenes del personaje\n",
        "    print('personaje actual: ',personaje)\n",
        "    os.chdir(dirOrigen+'/'+personaje)\n",
        "    imagenes = os.listdir()\n",
        "    \n",
        "    #Acumuladores de datos procesados\n",
        "    x_v=[]\n",
        "    y_v=[]\n",
        "    i=0\n",
        "    for imagenName in imagenes:\n",
        "      i=i+1\n",
        "      if i%50 ==0:\n",
        "        print(i)\n",
        "      imagen  = Image.open(imagenName)\n",
        "      imagen  = imagen.resize((resize,resize))  #Escalar\n",
        "\n",
        "      imagen = np.array(imagen)\n",
        "      imagen = imagen/255 #Normalizado\n",
        "\n",
        "      #Retirado de imagenes que no tengan 3 capas:\n",
        "      if(len(imagen.shape)==3):\n",
        "        if(imagen.shape[2]==3): \n",
        "          x_v.append(imagen)\n",
        "      \n",
        "    y_v.append(personaje)\n",
        "    y_v=y_v*len(x_v) #Número de veces que se debe repetir el target\n",
        "    x_v=np.array(x_v)\n",
        "    y_v=np.array(y_v)\n",
        "    #Nos movemos para guardar todo el conjunto de imagenes y target del personaje\n",
        "   \n",
        "    #Esto se puede hacer con un with\n",
        "    os.chdir(dirDestino+'/'+personaje+'/') \n",
        "    pickle.dump(x_v, open(personaje+\"Data\", 'wb'))\n",
        "    pickle.dump(y_v, open(personaje+\"Target\", 'wb'))\n",
        "    #Regresamos al directorio donde se encuentran el resto, mejorar con with\n",
        "    os.chdir(dirOrigen+'/'+personaje+'/')     \n",
        "\n"
      ],
      "execution_count": 15,
      "outputs": []
    },
    {
      "cell_type": "code",
      "metadata": {
        "id": "IE8GWgHwBlNb"
      },
      "source": [
        "#Tabla auxiliar para saber que elementos se han preprocesado\n",
        "\n",
        "# 32x32\n",
        "# de 0 a 3\n",
        "# de 3 a 6\n",
        "# de 6 a 10 \n",
        "\n",
        "# 64x64\n",
        "# de 0 a 3\n",
        "# de 3 a 10\n",
        "# de 10 a 20\n",
        "# de 20 a 30\n",
        "# de 30 a 40\n",
        "# de 40 a 49"
      ],
      "execution_count": 16,
      "outputs": []
    },
    {
      "cell_type": "markdown",
      "metadata": {
        "id": "HL8DAT_SJxzZ"
      },
      "source": [
        "##### Aplicación de preprocesamiento"
      ]
    },
    {
      "cell_type": "code",
      "metadata": {
        "id": "Kw6HpZMWUBn9"
      },
      "source": [
        "#PreprocesarDatos(dirTrain, dir[0]+'/data/trainPrep',40,49   ,64 ,personajes)        "
      ],
      "execution_count": 17,
      "outputs": []
    },
    {
      "cell_type": "code",
      "metadata": {
        "id": "pXXT6Se_UwGk"
      },
      "source": [
        "#PreprocesarDatos(dirTest,dir[0]+'/data/testPrep',40,49,64,personajes)"
      ],
      "execution_count": 18,
      "outputs": []
    },
    {
      "cell_type": "markdown",
      "metadata": {
        "id": "Il2UvTTKZCGs"
      },
      "source": [
        "#### Carga de datos preprocesados"
      ]
    },
    {
      "cell_type": "code",
      "metadata": {
        "id": "aDlvq0HS7IxC"
      },
      "source": [
        "#Número de personajes a usar\n",
        "n = 10\n"
      ],
      "execution_count": 19,
      "outputs": []
    },
    {
      "cell_type": "markdown",
      "metadata": {
        "id": "FBRx51C-J8jM"
      },
      "source": [
        "##### Función de carga de datos"
      ]
    },
    {
      "cell_type": "code",
      "metadata": {
        "id": "tOWReAcTXTMR"
      },
      "source": [
        "def CargadorDatos(dirOrigen, n,personajes):\n",
        "  #Se elige directorio origen y número de personajes\n",
        "  x_v =[]\n",
        "  y_v =[]\n",
        "  i = 0 #indice de personaje\n",
        "  t = 0 #total de personajes agregados\n",
        "  while t < n:\n",
        "  \n",
        "    personaje = personajes[i]\n",
        "    os.chdir(dirOrigen+'/'+personaje)\n",
        "\n",
        "    #cargar todo  con 64x64 \n",
        "\n",
        "    #LOAD \n",
        "    data = pickle.load(open(personaje+'Data','rb')) \n",
        "    \n",
        "    #If a implementar para regular que personajes pueden ser cargados\n",
        "    # 0 -> todos serán considerados\n",
        "    # \n",
        "    if(len(data)>0):    \n",
        "      t=t+1\n",
        "      x_v.extend( data )\n",
        "      y_v.extend( pickle.load( open(personaje+'Target','rb'))  )\n",
        "    i=i+1 \n",
        "  return np.array(x_v) , np.array(y_v)"
      ],
      "execution_count": 20,
      "outputs": []
    },
    {
      "cell_type": "markdown",
      "metadata": {
        "id": "6bNPlLdeKAuk"
      },
      "source": [
        "##### Carga de datos"
      ]
    },
    {
      "cell_type": "code",
      "metadata": {
        "id": "zSIWcmpoX2ZK"
      },
      "source": [
        "x_train,y_train = CargadorDatos(dirTrainP,n,personajes)\n",
        "x_test, y_test  = CargadorDatos(dirTestP ,n,personajes)"
      ],
      "execution_count": 21,
      "outputs": []
    },
    {
      "cell_type": "code",
      "metadata": {
        "colab": {
          "base_uri": "https://localhost:8080/"
        },
        "id": "aLwOj6LFZiPE",
        "outputId": "3d98279a-f816-42e1-c01b-10443f3a0015"
      },
      "source": [
        "#Forma de los datos:\n",
        "# Dato, H,W, capas\n",
        "np.shape(x_test)"
      ],
      "execution_count": 22,
      "outputs": [
        {
          "output_type": "execute_result",
          "data": {
            "text/plain": [
              "(682, 64, 64, 3)"
            ]
          },
          "metadata": {
            "tags": []
          },
          "execution_count": 22
        }
      ]
    },
    {
      "cell_type": "markdown",
      "metadata": {
        "id": "HxPe3kapjvg0"
      },
      "source": [
        "#### Ejemplos de entrada de la red\n"
      ]
    },
    {
      "cell_type": "code",
      "metadata": {
        "colab": {
          "base_uri": "https://localhost:8080/",
          "height": 167
        },
        "id": "9aYMAvn3ZOj2",
        "outputId": "c7f3bf59-01f6-42ba-fe09-455b1416db06"
      },
      "source": [
        "#Input\n",
        "ex=x_train[0]\n",
        "\n",
        "fig2 = plt.figure(figsize=(6,10))\n",
        "ax   = fig2.add_subplot(1,3,1)\n",
        "ax.imshow(ex[:,:,0],cmap='gray')\n",
        "ax   = fig2.add_subplot(1,3,2)\n",
        "ax.imshow(ex[:,:,1],cmap='gray')\n",
        "ax   = fig2.add_subplot(1,3,3)\n",
        "ax.imshow(ex[:,:,2],cmap='gray')\n",
        "\n"
      ],
      "execution_count": 23,
      "outputs": [
        {
          "output_type": "execute_result",
          "data": {
            "text/plain": [
              "<matplotlib.image.AxesImage at 0x7f84a7174190>"
            ]
          },
          "metadata": {
            "tags": []
          },
          "execution_count": 23
        },
        {
          "output_type": "display_data",
          "data": {
            "image/png": "[encoded data removed]",
            "text/plain": [
              "<Figure size 432x720 with 3 Axes>"
            ]
          },
          "metadata": {
            "tags": [],
            "needs_background": "light"
          }
        }
      ]
    },
    {
      "cell_type": "markdown",
      "metadata": {
        "id": "cz5w95qgFzAp"
      },
      "source": [
        "#### Sobre los tamaños de los conjuntos:"
      ]
    },
    {
      "cell_type": "code",
      "metadata": {
        "colab": {
          "base_uri": "https://localhost:8080/"
        },
        "id": "PJozUg-GF1KD",
        "outputId": "c9e56432-947d-4a72-dd32-eefb1a88e1e6"
      },
      "source": [
        "#Entrenamiento, Prueba\n",
        "len(y_train),len(y_test)"
      ],
      "execution_count": 24,
      "outputs": [
        {
          "output_type": "execute_result",
          "data": {
            "text/plain": [
              "(7343, 682)"
            ]
          },
          "metadata": {
            "tags": []
          },
          "execution_count": 24
        }
      ]
    },
    {
      "cell_type": "code",
      "metadata": {
        "colab": {
          "base_uri": "https://localhost:8080/"
        },
        "id": "gqAlLr2Xd-ev",
        "outputId": "91cd3fb0-c076-48dc-fa92-ede11ac512a6"
      },
      "source": [
        "#Re escalado de los tamaños para proporción 80/20\n",
        "X = np.concatenate( (x_test,x_train), axis = 0)\n",
        "y = np.concatenate( (y_test,y_train), axis = 0)\n",
        "X.shape,y.shape"
      ],
      "execution_count": 25,
      "outputs": [
        {
          "output_type": "execute_result",
          "data": {
            "text/plain": [
              "((8025, 64, 64, 3), (8025,))"
            ]
          },
          "metadata": {
            "tags": []
          },
          "execution_count": 25
        }
      ]
    },
    {
      "cell_type": "code",
      "metadata": {
        "id": "d0RhBeYGf1Ix"
      },
      "source": [
        "#Re-escalado 70/30\n",
        "x_train,x_test,y_train,y_test = train_test_split(X, y, test_size=0.30)"
      ],
      "execution_count": 26,
      "outputs": []
    },
    {
      "cell_type": "code",
      "metadata": {
        "id": "POgfDrjAfcJR"
      },
      "source": [
        "#Aplicando one-hot y creando diccionario de traducción del mismo:\n",
        "\n",
        "onehot_encoder = OneHotEncoder(sparse=False)\n",
        "\n",
        "y_train = y_train.reshape(len(y_train), 1)\n",
        "y_train_onehot = onehot_encoder.fit_transform(y_train)\n",
        "\n",
        "\n",
        "y_test = y_test.reshape(len(y_test), 1)\n",
        "y_test_onehot = onehot_encoder.fit_transform(y_test)"
      ],
      "execution_count": 27,
      "outputs": []
    },
    {
      "cell_type": "code",
      "metadata": {
        "colab": {
          "base_uri": "https://localhost:8080/"
        },
        "id": "GFPnip0lgqBb",
        "outputId": "89726192-fadb-41f7-efe6-d866dc1a0020"
      },
      "source": [
        "#ejemplo de un onehot\n",
        "y_train_onehot[0]"
      ],
      "execution_count": 28,
      "outputs": [
        {
          "output_type": "execute_result",
          "data": {
            "text/plain": [
              "array([0., 0., 0., 0., 1., 0., 0., 0., 0., 0.])"
            ]
          },
          "metadata": {
            "tags": []
          },
          "execution_count": 28
        }
      ]
    },
    {
      "cell_type": "markdown",
      "metadata": {
        "id": "koADJLq0A6S0"
      },
      "source": [
        "#### Shuffle para evitar aprender el orden de los datos"
      ]
    },
    {
      "cell_type": "code",
      "metadata": {
        "id": "l9MkuzmnA519"
      },
      "source": [
        "x_train, y_train, y_train_onehot = shuffle(x_train, y_train, y_train_onehot, random_state=None)\n",
        "x_test,  y_test,  y_test_onehot  = shuffle(x_test,  y_test,  y_test_onehot,  random_state=None)"
      ],
      "execution_count": 29,
      "outputs": []
    },
    {
      "cell_type": "code",
      "metadata": {
        "colab": {
          "base_uri": "https://localhost:8080/"
        },
        "id": "iXf8N80acwrs",
        "outputId": "ec434e7b-fe1a-4ac3-ae7c-7f7ec528ce1b"
      },
      "source": [
        "#Proporción de datos  \n",
        "\n",
        "len(x_test)/ (  len(x_train)+len(x_test) )\n"
      ],
      "execution_count": 30,
      "outputs": [
        {
          "output_type": "execute_result",
          "data": {
            "text/plain": [
              "0.3000623052959502"
            ]
          },
          "metadata": {
            "tags": []
          },
          "execution_count": 30
        }
      ]
    },
    {
      "cell_type": "markdown",
      "metadata": {
        "id": "oQIkSyp-CcN1"
      },
      "source": [
        "### Etapa 2: Diseño de red"
      ]
    },
    {
      "cell_type": "markdown",
      "metadata": {
        "id": "TNBSx89gDXqW"
      },
      "source": [
        "- Optimizador, y métricas a usar\n",
        "- Grafo computacional (train y test)\n",
        "- Entrenamiento\n",
        "- Implementado y pseudoevaluado\n",
        "- Muestra de ejemplos clasificados "
      ]
    },
    {
      "cell_type": "markdown",
      "metadata": {
        "id": "PM-oRtjDLj1q"
      },
      "source": [
        "#### Declarado de la arquitectura"
      ]
    },
    {
      "cell_type": "code",
      "metadata": {
        "id": "ChXTCF5OlDjp"
      },
      "source": [
        "class CNN_Model(object):\n",
        "  def __init__(self, clases =10): \n",
        "    #Arquitectura tratará de usar el color... \n",
        "      # Capas convolucionales\n",
        "        #Convolución con 16filtros\n",
        "\n",
        "    amp=0.001 #amplitud del rand\n",
        "\n",
        "    \n",
        "    self.h1LW = tf.Variable(amp*np.random.randn(5,5,3,8),name=\"hl1weigths\",dtype=\"float32\")\n",
        "    \n",
        "    self.h1LB = tf.Variable(amp*np.random.randn(8),name=\"hl1bias\",dtype=\"float32\")\n",
        "    \n",
        "        #MAX pooling (no tiene pesos)\n",
        "\n",
        "        #Convolución con 16 filtros\n",
        "    self.h2LW = tf.Variable(amp*np.random.randn(3,3,8,16),name=\"hl2weigths\",dtype=\"float32\")\n",
        "    self.h2LB = tf.Variable(amp*np.random.randn(16),name=\"hl2bias\",dtype=\"float32\")\n",
        "    \n",
        "        #MAX pooling (no tiene pesos)\n",
        "\n",
        "        #Flatten final\n",
        "    self.h3LW = tf.Variable(amp*np.random.randn(16*16*16,256),name=\"hl3weigths\",dtype=\"float32\")\n",
        "    self.h3LB = tf.Variable(amp*np.random.randn(256),name=\"hl3bias\",dtype=\"float32\")\n",
        "  \n",
        "    \n",
        "\n",
        "      #Capas completamente conectadas\n",
        "        #Primera reducción\n",
        "    self.outW = tf.Variable(amp*np.random.rand(256, clases),name=\"outweigths\",dtype=\"float32\")\n",
        "    self.outB = tf.Variable(amp*np.random.rand(clases),name=\"outbias\",dtype=\"float32\")\n",
        "    \n",
        "    #Para el grafo computacional, variables a entrenar:\n",
        "    self.trainable_variables =[self.h1LW,self.h1LB,                               \n",
        "                               self.h2LW,self.h2LB,\n",
        "                               self.h3LW,self.h3LB,\n",
        "                               self.outW,self.outB]\n",
        "    \n",
        "    #Donde x representa la entrada de dato                        \n",
        "\n",
        "    #No me gusta que se hinche a lo loco los valores, le meteré un normalizador entre capas\n",
        "    #Layer normalization       \n",
        "  def __call__(self,x,rate):\n",
        "      x   = tf.cast(x, tf.float32) #Volvemos float32 porque TF explota sino (? aver)\n",
        "      img = tf.reshape(x, shape=[-1, 64, 64, 3])  #Reshape con: batch, ancho, alto, colores \n",
        "      # 64*64*3\n",
        "\n",
        "      l1 = tf.nn.conv2d(img, self.h1LW, strides=[1,1,1,1], padding='SAME' )  \n",
        "      #Salto entre batches, [espacial, espacial], filtro/color  \n",
        "      \n",
        "      #Revisar espacial\n",
        "\n",
        "      l1 = tf.add(l1, self.h1LB)\n",
        "      l1 = tf.nn.relu(l1)\n",
        "      l1 = tf.nn.max_pool(l1, ksize=2, strides=2, padding='SAME' )\n",
        "      \n",
        "      l1 = l1/tf.reduce_max(abs(l1))\n",
        "      #l1 = (l1-tf.reduce_min(l1))/tf.reduce_max(l1)\n",
        "              \n",
        "      # 32 * 32 * 16\n",
        "      \n",
        "      l2 = tf.nn.conv2d(l1,self.h2LW, strides=[1,1,1,1], padding='SAME')  \n",
        "      l2 = tf.add(l2, self.h2LB)\n",
        "      l2 = tf.nn.relu(l2)\n",
        "      l2 = tf.nn.max_pool(l2, ksize=2, strides=2, padding='SAME')\n",
        "      \n",
        "      l2 = l2/tf.reduce_max(abs(l2))\n",
        "      #l2 = (l2-tf.reduce_min(l2))/tf.reduce_max(l2)\n",
        "      \n",
        "      #l2 = tf.nn.dropout(l2,rate)  \n",
        "      # 16 * 16 * 16\n",
        "      \n",
        "      #Capas completamente conectadas\n",
        "      l3 = tf.reshape(l2,[-1, 16*16*16])\n",
        "      l3 = tf.add(tf.matmul(l3,self.h3LW),self.h3LB)\n",
        "      l3 = tf.nn.relu(l3)\n",
        "      \n",
        "      l3 = l3/tf.reduce_max(abs(l3))\n",
        "        \n",
        "      #l3 = (l3-tf.reduce_min(l3))/tf.reduce_max(l3)\n",
        "      l3 = tf.nn.dropout(l3,rate)    \n",
        "   \n",
        "      \n",
        "      output = tf.add( tf.matmul(l3,self.outW) , self.outB)\n",
        "      #output = output/tf.reduce_max(output)\n",
        "\n",
        "\n",
        "      return output          "
      ],
      "execution_count": 31,
      "outputs": []
    },
    {
      "cell_type": "code",
      "metadata": {
        "colab": {
          "base_uri": "https://localhost:8080/"
        },
        "id": "Oy6tUH-SCfp6",
        "outputId": "05174edb-b93e-470a-af58-7335246905a9"
      },
      "source": [
        "#Prueba de propagación hacía adelante, uso de n\n",
        "CNN1 = CNN_Model(clases = n)\n",
        "CNN1(x_train[0],0.0)\n",
        " "
      ],
      "execution_count": 32,
      "outputs": [
        {
          "output_type": "execute_result",
          "data": {
            "text/plain": [
              "<tf.Tensor: shape=(1, 10), dtype=float32, numpy=\n",
              "array([[0.02005553, 0.01848817, 0.02055231, 0.0172898 , 0.019735  ,\n",
              "        0.01849574, 0.01832829, 0.01927057, 0.01990086, 0.0179661 ]],\n",
              "      dtype=float32)>"
            ]
          },
          "metadata": {
            "tags": []
          },
          "execution_count": 32
        }
      ]
    },
    {
      "cell_type": "code",
      "metadata": {
        "colab": {
          "base_uri": "https://localhost:8080/"
        },
        "id": "Y6K9K76rCU5B",
        "outputId": "2306ff67-82d3-42db-f85c-c5a7cbcf4d62"
      },
      "source": [
        "#Detalles de pesos:\n",
        "for tensor in CNN1.trainable_variables:\n",
        "  print(tensor.shape,   np.sum (  tensor.value()  )  , np.max(tensor.value()) , np.min(tensor.value() )) \n",
        "\n"
      ],
      "execution_count": 33,
      "outputs": [
        {
          "output_type": "stream",
          "text": [
            "(5, 5, 3, 8) -0.011115694 0.004870084 -0.0026299688\n",
            "(8,) 0.001243697 0.0014130132 -0.0010859804\n",
            "(3, 3, 8, 16) 0.018991606 0.003209492 -0.0031415063\n",
            "(16,) 0.0021024738 0.0016346847 -0.0032505915\n",
            "(4096, 256) -1.6405864 0.0048204893 -0.0047686934\n",
            "(256,) -0.008743391 0.0026185028 -0.002963513\n",
            "(256, 10) 1.281877 0.0009995158 1.5555271e-06\n",
            "(10,) 0.0062507084 0.0009347959 4.552912e-05\n"
          ],
          "name": "stdout"
        }
      ]
    },
    {
      "cell_type": "code",
      "metadata": {
        "id": "FgS628PYwtb1"
      },
      "source": [
        ""
      ],
      "execution_count": 33,
      "outputs": []
    },
    {
      "cell_type": "code",
      "metadata": {
        "id": "QPQ2xpTEw3sP"
      },
      "source": [
        "#Metricas a usar\n",
        "train_loss = tf.keras.metrics.Mean(name='train_loss')\n",
        "train_accuracy = tf.keras.metrics.CategoricalAccuracy(name='train_accuracy')\n",
        "\n",
        "test_loss = tf.keras.metrics.Mean(name='test_loss')\n",
        "test_accuracy = tf.keras.metrics.CategoricalAccuracy(name='test_accuracy')"
      ],
      "execution_count": 34,
      "outputs": []
    },
    {
      "cell_type": "markdown",
      "metadata": {
        "id": "HNdoQVhgL8Dd"
      },
      "source": [
        "##### Pasos de entrenamiento y de prueba"
      ]
    },
    {
      "cell_type": "code",
      "metadata": {
        "id": "N5glu6qjvfC1"
      },
      "source": [
        "  ############## Declarado del optimizador\n",
        "  optimizador = tf.compat.v1.train.AdamOptimizer( learning_rate=0.01,epsilon= 1e-8)\n",
        "  ##############    "
      ],
      "execution_count": 35,
      "outputs": []
    },
    {
      "cell_type": "code",
      "metadata": {
        "id": "RiClOuOlxhU2"
      },
      "source": [
        "@tf.function\n",
        "def TrainingStep(model, tdata, etiquetas,rate):\n",
        "  \n",
        "\n",
        "  with tf.GradientTape() as tape:\n",
        "\n",
        "    prediction = model(tdata,rate)\n",
        "    loss = tf.reduce_mean(tf.nn.softmax_cross_entropy_with_logits(etiquetas,prediction))\n",
        "  \n",
        "  gradients = tape.gradient(loss, model.trainable_variables)  #Con que sacar gradiente\n",
        "  capped_grad_and_vars = [(grad,model.trainable_variables[index]) for index,grad in enumerate(gradients)] #Elementos a modificar\n",
        "  optimizador.apply_gradients(capped_grad_and_vars) #Modificar\n",
        "  train_loss(loss)\n",
        "  train_accuracy(etiquetas, prediction)\n"
      ],
      "execution_count": 36,
      "outputs": []
    },
    {
      "cell_type": "code",
      "metadata": {
        "id": "yPkzbWFWyz1x"
      },
      "source": [
        "@tf.function\n",
        "def TestStep(model,tdata, etiquetas):\n",
        "  predictions = model(tdata,0)\n",
        "  t_loss =  tf.reduce_mean(tf.nn.softmax_cross_entropy_with_logits(etiquetas, predictions))\n",
        "  \n",
        "  test_loss(t_loss)\n",
        "  test_accuracy(etiquetas, predictions)\n",
        "  "
      ],
      "execution_count": 37,
      "outputs": []
    },
    {
      "cell_type": "markdown",
      "metadata": {
        "id": "pSRxuc57MDxp"
      },
      "source": [
        "##### Prepatativos para Tensorboard"
      ]
    },
    {
      "cell_type": "code",
      "metadata": {
        "id": "utOYIA5PHhIQ"
      },
      "source": [
        "#Subimos a directorio principal para guardado aquí de los logs\n",
        "os.chdir(dir[0])"
      ],
      "execution_count": 38,
      "outputs": []
    },
    {
      "cell_type": "code",
      "metadata": {
        "colab": {
          "base_uri": "https://localhost:8080/",
          "height": 35
        },
        "id": "IBPkJsxVHlNx",
        "outputId": "a6181944-69f2-479e-c47a-da717b3707d5"
      },
      "source": [
        "os.getcwd()"
      ],
      "execution_count": 39,
      "outputs": [
        {
          "output_type": "execute_result",
          "data": {
            "application/vnd.google.colaboratory.intrinsic+json": {
              "type": "string"
            },
            "text/plain": [
              "'/content/drive/My Drive/Colab Notebooks/CIC-RNA-avanzadas-Duchanoy/Proyecto CNN Simpson'"
            ]
          },
          "metadata": {
            "tags": []
          },
          "execution_count": 39
        }
      ]
    },
    {
      "cell_type": "code",
      "metadata": {
        "id": "N-M_zVKqVJgI"
      },
      "source": [
        "rm -rf ./logs/"
      ],
      "execution_count": 40,
      "outputs": []
    },
    {
      "cell_type": "code",
      "metadata": {
        "id": "vBnosbE0Ests"
      },
      "source": [
        "current_time = datetime.datetime.now().strftime(\"%Y%m%d-%H%M%S\")\n",
        "#Directorios de guardado de la info:\n",
        "train_log_dir = 'logs/gradient_tape/'  + current_time + '/train'\n",
        "test_log_dir  = 'logs/gradient_tape/'  + current_time + '/test'\n",
        "CL1_log_dir   = 'logs/gradient_tape/' + current_time + '/CL1'\n",
        "CL2_log_dir   = 'logs/gradient_tape/'  + current_time + '/CL2'\n",
        "\n",
        "#Escritores de la info:\n",
        "train_summary_writer = tf.summary.create_file_writer(train_log_dir)\n",
        "test_summary_writer  = tf.summary.create_file_writer(test_log_dir)\n",
        "CL1_summary_writer   = tf.summary.create_file_writer(CL1_log_dir)\n",
        "CL2_summary_writer   = tf.summary.create_file_writer(CL2_log_dir)"
      ],
      "execution_count": 41,
      "outputs": []
    },
    {
      "cell_type": "markdown",
      "metadata": {
        "id": "nSDB8hu-MMk3"
      },
      "source": [
        "##### Función de ajuste"
      ]
    },
    {
      "cell_type": "code",
      "metadata": {
        "id": "5fvnwWjEzAfo"
      },
      "source": [
        "# Utilizo un tamaño de batch que varia para el último batch\n",
        "\n",
        "def fitting(model,train_x,train_y,test_x,test_y,\n",
        "            epochs,batchSize,\n",
        "            rate):\n",
        "\n",
        "\n",
        "  #Mientras el valor de la epoca actual sea menor que la cantidad total de datos:\n",
        "  for epoch in range(epochs):\n",
        "    i=0\n",
        "    #Bucle del training step\n",
        "      #agregando suffle, diferentes batches cada vez\n",
        "    train_x,train_y = shuffle(train_x,train_y, random_state=None)\n",
        "\n",
        "    while i<len(train_x):\n",
        "      start = i\n",
        "\n",
        "      if (i+batchSize)<len(train_x):\n",
        "        end = i+batchSize  \n",
        "      else:\n",
        "        end = len(train_x)\n",
        "      batch_x = train_x[start:end]\n",
        "      batch_y = train_y[start:end]\n",
        "      \n",
        "      TrainingStep( model, batch_x, batch_y,rate)\n",
        "      \n",
        "      #Guardado\n",
        "      with train_summary_writer.as_default():\n",
        "        tf.summary.scalar('loss', train_loss.result(), step=epoch)\n",
        "        tf.summary.scalar('accuracy', train_accuracy.result(), step=epoch)\n",
        "\n",
        "      i+=batchSize\n",
        "\n",
        "    TestStep( model,test_x,test_y)\n",
        "\n",
        "    #Guardado \n",
        "    with test_summary_writer.as_default():\n",
        "      tf.summary.scalar('loss', test_loss.result(), step=epoch)\n",
        "      tf.summary.scalar('accuracy', test_accuracy.result(), step=epoch)\n",
        "      \n",
        "\n",
        "    #Presentación de resultados\n",
        "    template = 'Epoch {0}, Perdida: {1:.3f}, Exactitud: {2:.3f}, Perdida de prueba: {3:.3f}, Exactitud de prueba: {4:.3f}'\n",
        "    print(template.format(epoch+1,\n",
        "                        train_loss.result().numpy(),\n",
        "                        train_accuracy.result().numpy()*100,\n",
        "                        test_loss.result().numpy(),\n",
        "                        test_accuracy.result().numpy()*100    )   )\n",
        "    \n",
        "    #Early stopping\n",
        "    if( train_accuracy.result().numpy()>0.99 and test_accuracy.result().numpy()>0.90 ):\n",
        "      print('stop')\n",
        "      break;\n",
        "      \n",
        "    train_loss.reset_states()\n",
        "    train_accuracy.reset_states()\n",
        "    test_loss.reset_states()\n",
        "    test_accuracy.reset_states()\n",
        "\n",
        "    \n",
        "    \n",
        "      "
      ],
      "execution_count": 42,
      "outputs": []
    },
    {
      "cell_type": "markdown",
      "metadata": {
        "id": "ZukRY36KDI7g"
      },
      "source": [
        "#### Aplicación de la red"
      ]
    },
    {
      "cell_type": "code",
      "metadata": {
        "colab": {
          "base_uri": "https://localhost:8080/"
        },
        "id": "l7hBi9FADL1v",
        "outputId": "3b4d7049-375f-4db7-a558-c7a2dce58fad"
      },
      "source": [
        "#modelo, entradas, target, test_entrada, target_test, epocas, batchSize\n",
        "fitting( CNN1,x_train,y_train_onehot, x_test,y_test_onehot,\n",
        "        epochs= 25, batchSize = 32,\n",
        "        rate = 0.15 )\n",
        "# 10 personajes, tasa:\"70/30, train/test\" , dropout=0.1 , 25 epochs, lr= 0.01\n",
        "# batchSize: 32, 0.6%~ , 156 batches aprox ::: 99/82\n",
        "\n",
        "# 100 epochs, drop 0.0 --> 100/71 Overfitting\n",
        "# 25 epochs, drop 0.2  --> 96/80\n",
        "# 25 epochs, drop 0.3  --> 93/75 + 25epochs--> 98/78\n",
        "# 25 epochs, drop 0.4  --> 89/71\n",
        "# 25 epochs, drop 0.5  --> "
      ],
      "execution_count": null,
      "outputs": [
        {
          "output_type": "stream",
          "text": [
            "Epoch 1, Perdida: 1.731, Exactitud: 35.428, Perdida de prueba: 1.578, Exactitud de prueba: 42.442\n",
            "Epoch 2, Perdida: 1.462, Exactitud: 47.018, Perdida de prueba: 1.364, Exactitud de prueba: 52.201\n",
            "Epoch 3, Perdida: 1.267, Exactitud: 56.578, Perdida de prueba: 1.268, Exactitud de prueba: 56.769\n"
          ],
          "name": "stdout"
        }
      ]
    },
    {
      "cell_type": "code",
      "metadata": {
        "id": "d7xF3YEvoQG1"
      },
      "source": [
        "total = 255**3*64**2\n",
        "param= 0\n",
        "for tensor in CNN1.trainable_variables:\n",
        "  param = param +np.size(tensor)\n",
        "param/total "
      ],
      "execution_count": null,
      "outputs": []
    },
    {
      "cell_type": "code",
      "metadata": {
        "id": "WzJZExv6Clo1"
      },
      "source": [
        "#Distribuciones de las entradas, nos indica el % que representan \n",
        "distribuciones=np.sum(y_test_onehot,axis=0)/np.sum(y_test_onehot)\n",
        "distribuciones"
      ],
      "execution_count": null,
      "outputs": []
    },
    {
      "cell_type": "code",
      "metadata": {
        "id": "mFO-3T6DoOR6"
      },
      "source": [
        "#Nos muestra cuantos de los primeros N personajes representan cierto porcentaje del total\n",
        "distribuciones.sort()\n",
        "np.cumsum(distribuciones[::-1])"
      ],
      "execution_count": null,
      "outputs": []
    },
    {
      "cell_type": "markdown",
      "metadata": {
        "id": "8cQV-o5t8mUa"
      },
      "source": [
        "Solo es necesario clasificar bien a 7 personajes para lograr el 95% de acc\n"
      ]
    },
    {
      "cell_type": "markdown",
      "metadata": {
        "id": "SbEFoF9cJQlk"
      },
      "source": [
        "#### Guardado de la red y carga de la misma\n"
      ]
    },
    {
      "cell_type": "code",
      "metadata": {
        "id": "AJJepI-Maipz"
      },
      "source": [
        "os.chdir(dir[0]) #Subimos a directorio principal para guardar aquí el modelo\n",
        "pickle.dump(CNN1, open('CNN1_Modelo_5', 'wb'))\n",
        "  "
      ],
      "execution_count": null,
      "outputs": []
    },
    {
      "cell_type": "code",
      "metadata": {
        "id": "n04hobkAbOVN"
      },
      "source": [
        "os.chdir(dir[0]) #Subimos a directorio principal para guardar aquí el modelo\n",
        "CNN2 = pickle.load(open('CNN1_Modelo_5', 'rb'))"
      ],
      "execution_count": null,
      "outputs": []
    },
    {
      "cell_type": "markdown",
      "metadata": {
        "id": "LKmw3AStEaHw"
      },
      "source": [
        "#### Ejemplo de evaluación"
      ]
    },
    {
      "cell_type": "code",
      "metadata": {
        "id": "pWUu5zw5gQw2"
      },
      "source": [
        "personajes=onehot_encoder.categories_[0]\n",
        "\n",
        "fig3 = plt.figure(figsize=(14,14))\n",
        "\n",
        "\n",
        "#Nueve ejemplos \n",
        "for i in range(3):\n",
        "  for j in range (3):\n",
        "    value = np.random.randint(0,len(x_test))\n",
        "    ejemplo = x_test[value]\n",
        "    prediccion = np.argmax( CNN2(ejemplo,0.0)  )\n",
        "    verdadero  = np.argmax(y_test_onehot[value])\n",
        "\n",
        "    ax   = fig3.add_subplot(3,3,i*3+(j+1))\n",
        "    ax.imshow(ejemplo)\n",
        "    ax.axis('off')\n",
        "    label='True:'+ str(personajes[verdadero])+'\\n Predic:'+ str(personajes[prediccion]) \n",
        "    ax.set_title(label )\n",
        "    \n",
        "    \n"
      ],
      "execution_count": null,
      "outputs": []
    },
    {
      "cell_type": "markdown",
      "metadata": {
        "id": "3-cBx-RHGYve"
      },
      "source": [
        "#### Resumen de modelo\n",
        "Indicar número de caracteristicas por capa"
      ]
    },
    {
      "cell_type": "code",
      "metadata": {
        "id": "bwWAZK3V8uEs"
      },
      "source": [
        "for capa in CNN1.trainable_variables:\n",
        "  valorDeCapa= capa.numpy().size\n",
        "  print('Capa tiene:',valorDeCapa )\n",
        "\n"
      ],
      "execution_count": null,
      "outputs": []
    },
    {
      "cell_type": "markdown",
      "metadata": {
        "id": "8RE8YyG_Cf4g"
      },
      "source": [
        "### Etapa 4: Implementación de Tensorboard"
      ]
    },
    {
      "cell_type": "code",
      "metadata": {
        "id": "8fQKVORD-R02"
      },
      "source": [
        "%tensorboard --logdir logs/gradient_tape\n"
      ],
      "execution_count": null,
      "outputs": []
    },
    {
      "cell_type": "markdown",
      "metadata": {
        "id": "bNtyAvp0wWZ8"
      },
      "source": [
        "## Etapa 5: Visualización con historia\n",
        "Aquí se intentará mostrar la evolución de los pesos de las capas convolucionales. \\\n",
        "Se deja como trabajo futuro, lo actualizaré si lo termino.\n"
      ]
    },
    {
      "cell_type": "code",
      "metadata": {
        "id": "h05QVwm8CjR2"
      },
      "source": [
        "\n",
        "#Leer los logs creados por tensorboard >:v\n",
        "# -> Evolución de los pesos en capas convolucionales\n",
        "\n",
        "#intentar implementar los propios\n"
      ],
      "execution_count": null,
      "outputs": []
    },
    {
      "cell_type": "code",
      "metadata": {
        "id": "68qoUxYXIYiC"
      },
      "source": [
        ""
      ],
      "execution_count": null,
      "outputs": []
    }
  ]
}