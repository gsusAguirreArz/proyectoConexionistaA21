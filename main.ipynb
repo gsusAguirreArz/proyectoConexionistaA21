{
 "metadata": {
  "language_info": {
   "codemirror_mode": {
    "name": "ipython",
    "version": 3
   },
   "file_extension": ".py",
   "mimetype": "text/x-python",
   "name": "python",
   "nbconvert_exporter": "python",
   "pygments_lexer": "ipython3",
   "version": "3.7.10"
  },
  "orig_nbformat": 4,
  "kernelspec": {
   "name": "python3",
   "display_name": "Python 3.7.10 64-bit ('tf2': conda)"
  },
  "interpreter": {
   "hash": "6e09ea6a6242779ff345dd234e73a97e95e1ca80af4d0748ed5b3ae560e5f9ed"
  }
 },
 "nbformat": 4,
 "nbformat_minor": 2,
 "cells": [
  {
   "cell_type": "code",
   "execution_count": 1,
   "metadata": {},
   "outputs": [
    {
     "output_type": "stream",
     "name": "stdout",
     "text": [
      "TensorFlow version: 2.5.0\n"
     ]
    }
   ],
   "source": [
    "import numpy as np\n",
    "from astrotools import skymap\n",
    "\n",
    "import tensorflow as tf\n",
    "\n",
    "print(f\"TensorFlow version: {tf.__version__}\")"
   ]
  },
  {
   "cell_type": "code",
   "execution_count": 2,
   "metadata": {},
   "outputs": [],
   "source": [
    "def deflected_cosmic_rays():\n",
    "    file = np.load(\"data/cosmic_ray_sphere/dataset_HAP.npz\")\n",
    "    x_train, x_test = file[\"data\"][:-10000], file[\"data\"][-10000:]\n",
    "    labels = tf.keras.utils.to_categorical(file[\"label\"],num_classes=2)\n",
    "    y_train, y_test = labels[:-10000], labels[-10000:]\n",
    "    return x_train, x_test, y_train, y_test"
   ]
  },
  {
   "cell_type": "code",
   "execution_count": 3,
   "metadata": {},
   "outputs": [],
   "source": [
    "X_train, X_test, y_train, y_test = deflected_cosmic_rays()"
   ]
  },
  {
   "cell_type": "code",
   "execution_count": 4,
   "metadata": {},
   "outputs": [
    {
     "output_type": "execute_result",
     "data": {
      "text/plain": [
       "(<Figure size 864x432 with 0 Axes>, <HammerAxes:>)"
      ]
     },
     "metadata": {},
     "execution_count": 4
    },
    {
     "output_type": "display_data",
     "data": {
      "text/plain": "<Figure size 864x432 with 0 Axes>"
     },
     "metadata": {}
    }
   ],
   "source": [
    "test_id = 0\n",
    "example_map = X_test[0]\n",
    "skymap.eventmap(example_map[:,0:3].T, c=example_map[:,3], cblabel='Energy (normed)', opath=\"skymap_%i.png\" % test_id)"
   ]
  },
  {
   "cell_type": "code",
   "execution_count": 9,
   "metadata": {},
   "outputs": [
    {
     "output_type": "execute_result",
     "data": {
      "text/plain": [
       "(array([[-0.9620432 ,  0.25254351, -0.10341501],\n",
       "        [ 0.61198201,  0.32471426,  0.72113707],\n",
       "        [-0.47282423, -0.86560326, -0.16482789],\n",
       "        ...,\n",
       "        [-0.64076128, -0.76768573, -0.00914393],\n",
       "        [ 0.12229378, -0.97279968, -0.19673591],\n",
       "        [ 0.97048795, -0.15635621, -0.18359159]]),\n",
       " array([[-0.9620432 ,  0.25254351, -0.10341501,  0.96365864],\n",
       "        [ 0.61198201,  0.32471426,  0.72113707,  0.96360986],\n",
       "        [-0.47282423, -0.86560326, -0.16482789,  0.95639037],\n",
       "        ...,\n",
       "        [-0.64076128, -0.76768573, -0.00914393,  0.96414645],\n",
       "        [ 0.12229378, -0.97279968, -0.19673591,  0.96082938],\n",
       "        [ 0.97048795, -0.15635621, -0.18359159,  0.96760985]]))"
      ]
     },
     "metadata": {},
     "execution_count": 9
    }
   ],
   "source": [
    "X_test[0][:,0:3], X_test[0]"
   ]
  },
  {
   "cell_type": "code",
   "execution_count": null,
   "metadata": {},
   "outputs": [],
   "source": []
  }
 ]
}