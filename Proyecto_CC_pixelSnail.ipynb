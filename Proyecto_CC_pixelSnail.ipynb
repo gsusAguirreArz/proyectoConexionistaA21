{
  "nbformat": 4,
  "nbformat_minor": 0,
  "metadata": {
    "colab": {
      "name": "Proyecto CC - pixelSnail",
      "provenance": [],
      "authorship_tag": "ABX9TyP+89Czz8C04OGpaqNxcBB2",
      "include_colab_link": true
    },
    "kernelspec": {
      "name": "python385jvsc74a57bd05382c605cca12717acc6f223ed8c01539e88e18d317d105d5952791263de4cd7",
      "display_name": "Python 3.8.5 64-bit ('Gsus': virtualenv)"
    },
    "language_info": {
      "name": "python",
      "version": "3.8.5"
    }
  },
  "cells": [
    {
      "cell_type": "markdown",
      "metadata": {
        "id": "view-in-github",
        "colab_type": "text"
      },
      "source": [
        "<a href=\"https://colab.research.google.com/github/gsusAguirreArz/proyectoConexionistaA21/blob/master/Proyecto_CC_pixelSnail.ipynb\" target=\"_parent\"><img src=\"https://colab.research.google.com/assets/colab-badge.svg\" alt=\"Open In Colab\"/></a>"
      ]
    },
    {
      "cell_type": "code",
      "metadata": {
        "id": "PKs1UgORcyKc"
      },
      "source": [],
      "execution_count": null,
      "outputs": []
    },
    {
      "cell_type": "markdown",
      "metadata": {
        "id": "EX1fBe-AdMPW"
      },
      "source": [
        "Texto AQUI yo puse algo :P \n"
      ]
    },
    {
      "cell_type": "code",
      "metadata": {
        "id": "FqiZlz1od8jM"
      },
      "source": [
        "#Código 1\n",
        "x = 2**2\n",
        "y = x**x\n",
        "print('hola jose', y)"
      ],
      "execution_count": 2,
      "outputs": [
        {
          "output_type": "stream",
          "name": "stdout",
          "text": [
            "hola jose 256\n"
          ]
        }
      ]
    },
    {
      "cell_type": "code",
      "metadata": {
        "id": "yq4NIRBmd97H"
      },
      "source": [
        "#Código 2 :D "
      ],
      "execution_count": null,
      "outputs": []
    }
  ]
}