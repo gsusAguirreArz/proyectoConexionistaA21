{
  "nbformat": 4,
  "nbformat_minor": 0,
  "metadata": {
    "language_info": {
      "codemirror_mode": {
        "name": "ipython",
        "version": 3
      },
      "file_extension": ".py",
      "mimetype": "text/x-python",
      "name": "python",
      "nbconvert_exporter": "python",
      "pygments_lexer": "ipython3",
      "version": "3.7.10"
    },
    "orig_nbformat": 4,
    "kernelspec": {
      "name": "python3",
      "display_name": "Python 3.7.10 64-bit ('tf2': conda)"
    },
    "interpreter": {
      "hash": "6e09ea6a6242779ff345dd234e73a97e95e1ca80af4d0748ed5b3ae560e5f9ed"
    },
    "colab": {
      "name": "mainColab.ipynb",
      "provenance": [],
      "collapsed_sections": [
        "Y8R_k4nvapRW",
        "JHHGTaQ7k1Gc",
        "_ANRx1ULlvHr",
        "UUr5JHjEmdw_"
      ]
    },
    "accelerator": "GPU"
  },
  "cells": [
    {
      "cell_type": "markdown",
      "metadata": {
        "id": "tfGx3SMHxdsJ"
      },
      "source": [
        "<h1><center>Proyecto final</center></h1>\n",
        "\n",
        "\n",
        "<h2><center>Cómputo conexionista (A21)</center></h2>\n",
        "\n",
        "---\n",
        "\n",
        "<h3><center>\n",
        "\n",
        "José Ángel Avelar Barragan (A200361)\n",
        "\n",
        "José de Jesús Daniel Aguirre Arzate (A200350)\n",
        "</center></h3>\n",
        "\n",
        "---\n",
        "\n",
        "<center><h2>\"Identification of patterns in cosmic-ray arrival directions using dynamic graph convolutional neural networks\"</center></h2>\n",
        "\n",
        "---\n",
        "\n",
        "Como proyecto final nos propusimos intentar entender el articulo y tratar de replicar los resultados. A la par intentamos relacionar los conceptos vistos en clase con lo que hace el articulo. Como primer objetivo tuvimos que entender como se estan procesando los datos y como objetivo final intentar construir la red que ellos proponen (tensorflow/pytorch)."
      ]
    },
    {
      "cell_type": "markdown",
      "metadata": {
        "id": "gFakX4vH-Fp0"
      },
      "source": [
        "#### Montado de Drive"
      ]
    },
    {
      "cell_type": "code",
      "metadata": {
        "colab": {
          "base_uri": "https://localhost:8080/"
        },
        "id": "7un-yCGF-PyH",
        "outputId": "fe71228c-71f8-452f-f0f3-6d9dc9490a65"
      },
      "source": [
        "from google.colab import drive\n",
        "drive.mount('/content/drive')\n",
        "\n"
      ],
      "execution_count": 14,
      "outputs": [
        {
          "output_type": "stream",
          "text": [
            "Mounted at /content/drive\n"
          ],
          "name": "stdout"
        }
      ]
    },
    {
      "cell_type": "markdown",
      "metadata": {
        "id": "zxZfFFQ1xk_e"
      },
      "source": [
        "\n",
        "\n",
        "## <h2><center>Teoria</center></h2>\n",
        "\n",
        "---\n",
        "\n",
        "### **Problema:**\n",
        "A traves de los patrones en las direcciones de arrivo de las particulas, distingir rayos cosmicos que vienen de la misma fuente o de un fondo isotropico (ruido de fondo).\n",
        "\n",
        "Este metodo intenta encontrar patrones en las direcciones de arrivo de rayos cosmicos, si existen patrones se calsifica a las particulas como las que vienen de una fuente comun y las que vienen de direcciones de arribo isotropicas.\n",
        "\n",
        "Datos de entrenamiento: Simulaciones simples de direcciones de arribo donde se conoce la unica fuente que genera algunos rayos cosmicos(+ detalles en el articulo acerca de la configuracion del simulador BENCHMARK1)\n",
        "\n",
        "![Simulated arrival directions](images/skymap_0.png)\n"
      ]
    },
    {
      "cell_type": "markdown",
      "metadata": {
        "id": "0ZToMvzB4-_y"
      },
      "source": [
        "### Bloque de imports"
      ]
    },
    {
      "cell_type": "code",
      "metadata": {
        "id": "1fBrF3qpm9LT",
        "colab": {
          "base_uri": "https://localhost:8080/"
        },
        "outputId": "333a42ef-e9be-4a40-8625-7e20f5fdae50"
      },
      "source": [
        "\n",
        "\n",
        "import numpy as np\n",
        "import scipy\n",
        "import matplotlib.pyplot as plt\n",
        "\n",
        "import os\n",
        "import time\n",
        "import pickle\n",
        "\n",
        "from PIL import Image\n",
        "\n",
        "import tensorflow as tf\n",
        "from tensorflow import keras\n",
        "from tensorflow.keras import layers as lay\n",
        "\n",
        "print(f\"TensorFlow version: {tf.__version__}\")\n"
      ],
      "execution_count": 15,
      "outputs": [
        {
          "output_type": "stream",
          "text": [
            "TensorFlow version: 2.5.0\n"
          ],
          "name": "stdout"
        }
      ]
    },
    {
      "cell_type": "code",
      "metadata": {
        "id": "kWn5rOel5a6g",
        "colab": {
          "base_uri": "https://localhost:8080/"
        },
        "outputId": "5ee158d2-ec7c-4ad2-c5e2-589fad4e4c42"
      },
      "source": [
        "#Intentando usar astrotools\n",
        "try:\n",
        "    import astrotools\n",
        "    from astrotools import auger, coord, skymap\n",
        "except ModuleNotFoundError: \n",
        "    print(\"Instalandolo entonces\\n\")\n",
        "    !pip install healpy\n",
        "    !pip install astrotools\n",
        "from astrotools import skymap\n"
      ],
      "execution_count": 16,
      "outputs": [
        {
          "output_type": "stream",
          "text": [
            "Instalandolo entonces\n",
            "\n",
            "Collecting healpy\n",
            "\u001b[?25l  Downloading https://files.pythonhosted.org/packages/5e/75/7a2c6c0c48f62fdaad254001e7dfac6f1f1f77066d4bcfb764eb467d3905/healpy-1.15.0-cp37-cp37m-manylinux_2_5_x86_64.manylinux1_x86_64.whl (18.1MB)\n",
            "\u001b[K     |████████████████████████████████| 18.1MB 1.5MB/s \n",
            "\u001b[?25hRequirement already satisfied: scipy in /usr/local/lib/python3.7/dist-packages (from healpy) (1.4.1)\n",
            "Requirement already satisfied: matplotlib in /usr/local/lib/python3.7/dist-packages (from healpy) (3.2.2)\n",
            "Requirement already satisfied: numpy>=1.13 in /usr/local/lib/python3.7/dist-packages (from healpy) (1.19.5)\n",
            "Requirement already satisfied: astropy in /usr/local/lib/python3.7/dist-packages (from healpy) (4.2.1)\n",
            "Requirement already satisfied: python-dateutil>=2.1 in /usr/local/lib/python3.7/dist-packages (from matplotlib->healpy) (2.8.1)\n",
            "Requirement already satisfied: cycler>=0.10 in /usr/local/lib/python3.7/dist-packages (from matplotlib->healpy) (0.10.0)\n",
            "Requirement already satisfied: pyparsing!=2.0.4,!=2.1.2,!=2.1.6,>=2.0.1 in /usr/local/lib/python3.7/dist-packages (from matplotlib->healpy) (2.4.7)\n",
            "Requirement already satisfied: kiwisolver>=1.0.1 in /usr/local/lib/python3.7/dist-packages (from matplotlib->healpy) (1.3.1)\n",
            "Requirement already satisfied: pyerfa in /usr/local/lib/python3.7/dist-packages (from astropy->healpy) (2.0.0)\n",
            "Requirement already satisfied: six>=1.5 in /usr/local/lib/python3.7/dist-packages (from python-dateutil>=2.1->matplotlib->healpy) (1.15.0)\n",
            "Installing collected packages: healpy\n",
            "Successfully installed healpy-1.15.0\n",
            "Collecting astrotools\n",
            "\u001b[?25l  Downloading https://files.pythonhosted.org/packages/ae/15/48090282a9c9fdf57ed70be21a4ad5aeeb1d89fbfc9c30b9a0f3665958b8/astrotools-1.5.0-py2.py3-none-any.whl (18.9MB)\n",
            "\u001b[K     |████████████████████████████████| 18.9MB 40.8MB/s \n",
            "\u001b[?25hRequirement already satisfied: healpy in /usr/local/lib/python3.7/dist-packages (from astrotools) (1.15.0)\n",
            "Requirement already satisfied: matplotlib in /usr/local/lib/python3.7/dist-packages (from astrotools) (3.2.2)\n",
            "Requirement already satisfied: scipy in /usr/local/lib/python3.7/dist-packages (from astrotools) (1.4.1)\n",
            "Requirement already satisfied: numpy in /usr/local/lib/python3.7/dist-packages (from astrotools) (1.19.5)\n",
            "Requirement already satisfied: astropy in /usr/local/lib/python3.7/dist-packages (from healpy->astrotools) (4.2.1)\n",
            "Requirement already satisfied: cycler>=0.10 in /usr/local/lib/python3.7/dist-packages (from matplotlib->astrotools) (0.10.0)\n",
            "Requirement already satisfied: pyparsing!=2.0.4,!=2.1.2,!=2.1.6,>=2.0.1 in /usr/local/lib/python3.7/dist-packages (from matplotlib->astrotools) (2.4.7)\n",
            "Requirement already satisfied: kiwisolver>=1.0.1 in /usr/local/lib/python3.7/dist-packages (from matplotlib->astrotools) (1.3.1)\n",
            "Requirement already satisfied: python-dateutil>=2.1 in /usr/local/lib/python3.7/dist-packages (from matplotlib->astrotools) (2.8.1)\n",
            "Requirement already satisfied: pyerfa in /usr/local/lib/python3.7/dist-packages (from astropy->healpy->astrotools) (2.0.0)\n",
            "Requirement already satisfied: six in /usr/local/lib/python3.7/dist-packages (from cycler>=0.10->matplotlib->astrotools) (1.15.0)\n",
            "Installing collected packages: astrotools\n",
            "Successfully installed astrotools-1.5.0\n"
          ],
          "name": "stdout"
        }
      ]
    },
    {
      "cell_type": "markdown",
      "metadata": {
        "id": "bG5ENKTk4OLE"
      },
      "source": [
        "<h2><center>Preparacion de datos</center></h2>\n",
        "\n",
        "---\n",
        "\n",
        "El dataset *dataset_HAP.npz* esta organizado de la siquiente manera:\n",
        "\n",
        "Un diccionario con las keys: data, label\n",
        "En las cuales en data esta un arreglo de 50000 simulaciones de 500 particulas cada una con sus respectivas coordenadas (x,y,z, E) donde E es la energia normalizada. \n",
        "\n",
        "Y el arreglo que viene en label clasifica a 1 como aaquellas simulaciones que tienen una fuente o 0 como aquellas que solo son arrivos isotropicos. "
      ]
    },
    {
      "cell_type": "code",
      "metadata": {
        "colab": {
          "base_uri": "https://localhost:8080/"
        },
        "id": "Bbdkezsq-T4F",
        "outputId": "56378f4e-0b8e-42cc-cc41-aa428f8e2bd1"
      },
      "source": [
        "!ls \"/content/drive/MyDrive/Proyecto/data/cosmic_ray_sphere\" #Path de José Ángel\n"
      ],
      "execution_count": 17,
      "outputs": [
        {
          "output_type": "stream",
          "text": [
            "dataset_HAP.npz\n"
          ],
          "name": "stdout"
        }
      ]
    },
    {
      "cell_type": "code",
      "metadata": {
        "id": "bt36w3GZBBZ4"
      },
      "source": [
        "dir =\"/content/drive/MyDrive/Proyecto/data/cosmic_ray_sphere/\""
      ],
      "execution_count": 18,
      "outputs": []
    },
    {
      "cell_type": "code",
      "metadata": {
        "id": "ZyuKTcyZjoFX"
      },
      "source": [
        "#Ruta de Jose para edgeConv.py\n",
        "dir2 =  \"/content/drive/MyDrive/Colab Notebooks/\""
      ],
      "execution_count": 19,
      "outputs": []
    },
    {
      "cell_type": "code",
      "metadata": {
        "id": "bl4EIhAgmgzt"
      },
      "source": [
        "def deflected_cosmic_rays():\n",
        "    file = np.load(dir+\"dataset_HAP.npz\")\n",
        "    x_train, x_test = file[\"data\"][:-10000], file[\"data\"][-10000:]\n",
        "    labels = tf.keras.utils.to_categorical(file[\"label\"],num_classes=2)\n",
        "    y_train, y_test = labels[:-10000], labels[-10000:]\n",
        "    return x_train, x_test, y_train, y_test"
      ],
      "execution_count": 20,
      "outputs": []
    },
    {
      "cell_type": "code",
      "metadata": {
        "id": "o6OLVQpKmgzv"
      },
      "source": [
        "#Demora unos segundos\n",
        "X_train, X_test, y_train, y_test = deflected_cosmic_rays()"
      ],
      "execution_count": 21,
      "outputs": []
    },
    {
      "cell_type": "code",
      "metadata": {
        "id": "P6z75Nzimgzv",
        "colab": {
          "base_uri": "https://localhost:8080/",
          "height": 463
        },
        "outputId": "176b281a-96bf-4754-eb02-fe58794f1065"
      },
      "source": [
        "test_id = 0\n",
        "example_map = X_test[0]\n",
        "skymap.eventmap(example_map[:,0:3].T, c=example_map[:,3], cblabel='Energy (normed)', opath=\"skymap_%i.png\" % test_id)\n",
        "im = Image.open(\"skymap_0.png\")\n",
        "im"
      ],
      "execution_count": 22,
      "outputs": [
        {
          "output_type": "execute_result",
          "data": {
            "image/png": "[encoded data removed]",
            "text/plain": [
              "<PIL.PngImagePlugin.PngImageFile image mode=RGBA size=697x428 at 0x7F29CBDB9550>"
            ]
          },
          "metadata": {
            "tags": []
          },
          "execution_count": 22
        },
        {
          "output_type": "display_data",
          "data": {
            "text/plain": [
              "<Figure size 864x432 with 0 Axes>"
            ]
          },
          "metadata": {
            "tags": []
          }
        }
      ]
    },
    {
      "cell_type": "code",
      "metadata": {
        "id": "Le0GNHOy6Csd"
      },
      "source": [
        "train_points, test_points, train_features, test_features = X_train[...,:3], X_test[...,:3], X_train[...,-1, np.newaxis], X_test[...,-1, np.newaxis]\n",
        "train_input_data, test_input_data = [train_points, train_features],[test_points, test_features]"
      ],
      "execution_count": 23,
      "outputs": []
    },
    {
      "cell_type": "markdown",
      "metadata": {
        "id": "Y8R_k4nvapRW"
      },
      "source": [
        "### EdgeConv \n",
        "La convolución de aristas se basa en obtener caracteristicas invariantes a la permutación de la geometria local de un grafo, en lugar de obtenerlas de los embbedings del mismo. \\\n",
        "En particular se trata de un invariante al reordenamiento de los vecinos, ya que la función *construye* un grafo local y extrae los embedings de las aristas."
      ]
    },
    {
      "cell_type": "markdown",
      "metadata": {
        "id": "ytAdThKjj2xm"
      },
      "source": [
        "### K-nn\n",
        "Para poder construir un grafo local se implementa el método de K-nn dónde el grafo generado depende del número de vecinos de cada nodo tales que estos sean los que están más cerca de este. \\\n",
        "En esta implementación se emplea el cálculo de la distancia euclideana entre los puntos y la misma capa convolucional realiza esta operación."
      ]
    },
    {
      "cell_type": "markdown",
      "metadata": {
        "id": "JHHGTaQ7k1Gc"
      },
      "source": [
        "### $h_\\Theta$ Función no lineal del mensaje\n",
        "\n",
        "En este caso la función encargada de la no linealidad del mensaje es una MLP (detallada en arquitectura), esta también cumple con ajustar el tamaño del mensaje modificando así el número de caracteristicas asociados a cada nodo por capa de edgeConv. \n",
        "\n",
        "$$ h_{\\theta} (x_{i,c},x_{i_j,c})= NN_\\theta ( x_{i,c} , x_{i,c} - x_{i_j,c} )$$"
      ]
    },
    {
      "cell_type": "markdown",
      "metadata": {
        "id": "_ANRx1ULlvHr"
      },
      "source": [
        "### Agregación\n",
        "\n",
        "La agregación del mensaje se hace por cada vecino que nos devuelve un mensaje, siendo descrita como:\n",
        "\n",
        "$$ x_{i,c}' = \\frac{1}{k_n} \\sum \\ h_{\\theta}(x_{i,c},x_{i_j,c})$$\n",
        "\n",
        "Notemos que este paso incluye al nodo central como parte del mensaje  *self-loop* pero concatena las caracteristicas del nodo con las caracteristicas de arista para obtener un nuevo vector enriquesido de caracteristicas que pasaran a la siguiente capa.\n",
        "\n"
      ]
    },
    {
      "cell_type": "markdown",
      "metadata": {
        "id": "UUr5JHjEmdw_"
      },
      "source": [
        "### Dynamic Graph\n",
        "\n",
        "Se considera que la implementación es un gráfo dinámico ya que tras cada iteración se extiende el vector de coordenadas con las caracteristicas obtenidas por la capa previa, de forma que el k-nn formado por cada capa difiere del anterior. \\\n",
        "Presumimos que aquellos más similares se aproximarán en cada iteración, como se ilustra en:![PasoEntreCapas.PNG](data:image/png;base64,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)\n"
      ]
    },
    {
      "cell_type": "markdown",
      "metadata": {
        "id": "4bOWHqX2nqqK"
      },
      "source": [
        "### Modelo completo\n",
        "A continuación se declaran algunas de las caracteristicas y detalles de la arquitectura en cuestión:\n",
        "- Separación de las entradas y aplicación de BatchNorm a las Caracteristicas (Energía)\n",
        "- Incersión de las Coordenadas, concatenandolas con las caracteristicas antes de cada EdgeConv\n",
        "- Aplicación de 3 EdgeConv, con unidades ReLU, 16 vecinos y  16,32 y 64 nodos en sus capas Densas respectivamente.\n",
        "- GlobalAveragePooling, para emplear capas Densas\n",
        "- Dos capas densas de 256 y 2 unidades con ReLU y SoftMax como activación.\n",
        "- BatchNorm con momento 0.9 y $\\epsilon \\ 10^{-5}$\n",
        "- Optimizador Adam, con Lr variable (decaimiento de $10^{-3}$ a $10^{-5}$ y decaimiento coseno)\n",
        "- Metricas: Entropía Cruzada Categorica y Presición\n",
        "\n",
        "![Arquitectura1.PNG](data:image/png;base64,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)\n",
        " "
      ]
    },
    {
      "cell_type": "markdown",
      "metadata": {
        "id": "AhmyorjDy50-"
      },
      "source": [
        "## <h2><center>Implementacion</center></h2>\n",
        "\n",
        "---\n",
        "\n",
        " \n",
        "- <h3>Tensorflow</h3>"
      ]
    },
    {
      "cell_type": "markdown",
      "metadata": {
        "id": "EpKx2W2tjkyu"
      },
      "source": [
        "#### Importando edgeConv"
      ]
    },
    {
      "cell_type": "code",
      "metadata": {
        "id": "qpUu71LT7gyY"
      },
      "source": [
        "os.chdir(dir2)"
      ],
      "execution_count": 11,
      "outputs": []
    },
    {
      "cell_type": "code",
      "metadata": {
        "id": "cNwlJg1p8K12"
      },
      "source": [
        "from edgeConv import EdgeConv"
      ],
      "execution_count": 12,
      "outputs": []
    },
    {
      "cell_type": "markdown",
      "metadata": {
        "id": "Gqzgeogw-nTm"
      },
      "source": [
        "José de Jesus"
      ]
    },
    {
      "cell_type": "code",
      "metadata": {
        "id": "lIegOYNH7Tu_"
      },
      "source": [
        "MODEL = tf.keras.models.Model\n",
        "LAYERS = tf.keras.layers\n",
        "NODES = 16\n",
        "\n",
        "def kernel_nn(data, nodes=NODES):\n",
        "    d1, d2 = data\n",
        "\n",
        "    delta = LAYERS.Subtract()([d1,d2])\n",
        "    x = LAYERS.Concatenate(axis=-1)([d1,delta])\n",
        "\n",
        "    x = LAYERS.Dense(nodes, activation=\"relu\")(x)\n",
        "    x = LAYERS.BatchNormalization()(x)\n",
        "\n",
        "    x = LAYERS.Dense(nodes, activation=\"relu\")(x)\n",
        "    x = LAYERS.BatchNormalization()(x)\n",
        "\n",
        "    x = LAYERS.Dense(nodes, activation=\"relu\")(x)\n",
        "    x = LAYERS.BatchNormalization()(x)\n",
        "    return x  \n",
        "\n",
        "from edgeConv import EdgeConv\n",
        "class DGCNN(MODEL):\n",
        "\n",
        "    def __init__(self):\n",
        "        super(DGCNN, self).__init__()\n",
        "\n",
        "        self.HL1 = EdgeConv(lambda a: kernel_nn(a,nodes=8), next_neighbors=5)\n",
        "        self.HL2 = EdgeConv(lambda a: kernel_nn(a,nodes=16), next_neighbors=8)\n",
        "        self.HL3 = EdgeConv(lambda a: kernel_nn(a,nodes=32), next_neighbors=16)\n",
        "        self.out = LAYERS.Dense(2, activation=\"softmax\")\n",
        "        self.ReLu = LAYERS.Activation(\"relu\")\n",
        "        \n",
        "        self.compile(loss=\"binary_crossentropy\", optimizer=tf.keras.optimizers.Adam(3E-3, decay=1E-4),metrics=['acc'])\n",
        "    \n",
        "    def call(self,train_arr):\n",
        "        points_in, feats_in = train_arr\n",
        "\n",
        "        l1 = self.HL1([points_in, feats_in]) # (None, 500, 8) \n",
        "        l1 = self.ReLu(l1)\n",
        "\n",
        "        l2 = self.HL2([points_in, l1]) # (None, 500, 16) \n",
        "        l2 = self.ReLu(l2)\n",
        "\n",
        "        l3 = self.HL3([points_in, l2]) # (None, 500, 32) \n",
        "        l3 = self.ReLu(l3)\n",
        "        l3 = LAYERS.GlobalAveragePooling1D(data_format='channels_first')(l3)\n",
        "\n",
        "        out = self.out(l3) # (None, 2) \n",
        "        return out\n",
        "\n",
        "\n",
        "\n"
      ],
      "execution_count": 13,
      "outputs": []
    },
    {
      "cell_type": "code",
      "metadata": {
        "colab": {
          "base_uri": "https://localhost:8080/"
        },
        "id": "7yJeR3trO5sU",
        "outputId": "a364b25a-ffa7-4d1d-f151-d802027499bd"
      },
      "source": [
        "model = DGCNN()\n",
        "points_in, feats_in= LAYERS.Input((500,3)), LAYERS.Input((500,1))\n",
        "model.build([points_in.shape, feats_in.shape])\n",
        "model.summary()"
      ],
      "execution_count": 14,
      "outputs": [
        {
          "output_type": "stream",
          "text": [
            "Model: \"dgcnn\"\n",
            "_________________________________________________________________\n",
            "Layer (type)                 Output Shape              Param #   \n",
            "=================================================================\n",
            "edge_conv (EdgeConv)         multiple                  264       \n",
            "_________________________________________________________________\n",
            "edge_conv_1 (EdgeConv)       multiple                  1008      \n",
            "_________________________________________________________________\n",
            "edge_conv_2 (EdgeConv)       multiple                  3552      \n",
            "_________________________________________________________________\n",
            "dense (Dense)                multiple                  1002      \n",
            "_________________________________________________________________\n",
            "activation (Activation)      multiple                  0         \n",
            "=================================================================\n",
            "Total params: 5,826\n",
            "Trainable params: 5,490\n",
            "Non-trainable params: 336\n",
            "_________________________________________________________________\n"
          ],
          "name": "stdout"
        }
      ]
    },
    {
      "cell_type": "code",
      "metadata": {
        "colab": {
          "base_uri": "https://localhost:8080/"
        },
        "id": "ySxPNAKc7424",
        "outputId": "afa184d6-c243-47c6-92e3-1ecf295cd810"
      },
      "source": [
        "model.compile(loss=\"binary_crossentropy\", optimizer=tf.keras.optimizers.Adam(3E-3, decay=1E-4),metrics=['acc'])\n",
        "\n",
        "BATCH_SIZE = 64\n",
        "EPOCHS     = 10\n",
        "hist = model.fit(train_input_data, y_train, batch_size=BATCH_SIZE, epochs=EPOCHS)"
      ],
      "execution_count": 15,
      "outputs": [
        {
          "output_type": "stream",
          "text": [
            "Epoch 1/10\n",
            "625/625 [==============================] - 151s 232ms/step - loss: 0.5764 - acc: 0.6487\n",
            "Epoch 2/10\n",
            "625/625 [==============================] - 149s 238ms/step - loss: 0.4348 - acc: 0.7948\n",
            "Epoch 3/10\n",
            "625/625 [==============================] - 150s 240ms/step - loss: 0.3932 - acc: 0.8214\n",
            "Epoch 4/10\n",
            "625/625 [==============================] - 150s 240ms/step - loss: 0.3763 - acc: 0.8312\n",
            "Epoch 5/10\n",
            "625/625 [==============================] - 150s 240ms/step - loss: 0.3626 - acc: 0.8398\n",
            "Epoch 6/10\n",
            "625/625 [==============================] - 150s 240ms/step - loss: 0.3533 - acc: 0.8458\n",
            "Epoch 7/10\n",
            "625/625 [==============================] - 150s 239ms/step - loss: 0.3462 - acc: 0.8489\n",
            "Epoch 8/10\n",
            "625/625 [==============================] - 150s 239ms/step - loss: 0.3408 - acc: 0.8521\n",
            "Epoch 9/10\n",
            "625/625 [==============================] - 149s 239ms/step - loss: 0.3361 - acc: 0.8551\n",
            "Epoch 10/10\n",
            "625/625 [==============================] - 150s 239ms/step - loss: 0.3305 - acc: 0.8591\n"
          ],
          "name": "stdout"
        }
      ]
    },
    {
      "cell_type": "code",
      "metadata": {
        "id": "r_rqyZA7768J"
      },
      "source": [
        "def plot_hist(history):\n",
        "    fig, axes = plt.subplots(2, figsize=(12,8))\n",
        "    if type(history) == dict:\n",
        "        loss = history[\"loss\"]\n",
        "        acc = history[\"acc\"]\n",
        "    else:\n",
        "        loss, acc = np.split(np.array(history), 2, axis=-1)\n",
        "    x = np.arange(len(loss))\n",
        "    axes[0].plot(x, loss, c=\"navy\")\n",
        "    axes[0].set_yscale(\"log\")\n",
        "    axes[0].set_ylabel(\"Loss\")\n",
        "    axes[1].plot(x, acc, c=\"firebrick\")\n",
        "    axes[1].set_ylabel(\"Accuracy\")\n",
        "    axes[1].set_ylim(0, 1)\n",
        "    if type(history) == dict:\n",
        "        axes[0].set_xlabel(\"Epochs\")\n",
        "        axes[1].set_xlabel(\"Epochs\")\n",
        "    else:\n",
        "        axes[0].set_xlabel(\"Iterations\")\n",
        "        axes[1].set_xlabel(\"Iterations\")\n",
        "    fig.tight_layout()\n",
        "    return fig"
      ],
      "execution_count": 16,
      "outputs": []
    },
    {
      "cell_type": "code",
      "metadata": {
        "id": "zILRSsjV786s",
        "colab": {
          "base_uri": "https://localhost:8080/",
          "height": 585
        },
        "outputId": "09aae4ec-1bb1-4c05-d8f2-ca04491c2bc3"
      },
      "source": [
        "fig = plot_hist(hist.history)\n",
        "fig.savefig(\"./history.png\")"
      ],
      "execution_count": 17,
      "outputs": [
        {
          "output_type": "display_data",
          "data": {
            "image/png": "[encoded data removed]",
            "text/plain": [
              "<Figure size 864x576 with 2 Axes>"
            ]
          },
          "metadata": {
            "tags": [],
            "needs_background": "light"
          }
        }
      ]
    },
    {
      "cell_type": "markdown",
      "metadata": {
        "id": "o7s_JzH5EhxK"
      },
      "source": [
        "José Ángel"
      ]
    },
    {
      "cell_type": "code",
      "metadata": {
        "id": "CtqcHgN9mTch"
      },
      "source": [
        "\n",
        "\n",
        "#para dar el shape\n",
        "points = lay.Input((500, 3))\n",
        "feats  = lay.Input((500, 1))"
      ],
      "execution_count": 18,
      "outputs": []
    },
    {
      "cell_type": "code",
      "metadata": {
        "id": "basBZyNK6UCM"
      },
      "source": [
        "\n",
        "\n",
        "class MyModel(tf.keras.Model):\n",
        "\n",
        "  def __init__(self):\n",
        "    super(MyModel, self).__init__()\n",
        "\n",
        "    self.edge1 = EdgeConv(lambda a: kernel_nn(a, nodes=16), next_neighbors=16)\n",
        "    self.edge2 = EdgeConv(lambda a: kernel_nn(a, nodes=32), next_neighbors=16)\n",
        "    self.edge3 = EdgeConv(lambda a: kernel_nn(a, nodes=64), next_neighbors=16)\n",
        "    self.drop1  = lay.Dropout(0.1)\n",
        "    self.batch1 = lay.BatchNormalization(momentum=0.9, epsilon=1e-5)\n",
        "\n",
        "    \n",
        "    self.GAP1D  = lay.GlobalAveragePooling1D(data_format='channels_first' )\n",
        "    self.Dense1  = lay.Dense(256,activation='relu')\n",
        "    self.Dense2  = lay.Dense(2,activation='softmax')\n",
        "\n",
        "    \n",
        "\n",
        "  def call(self, inputs):\n",
        "    points,feats = inputs\n",
        "    feats = self.batch1(feats)\n",
        "    \n",
        "    x =  self.edge1([points,feats]) \n",
        "    x =  lay.Activation(\"ReLU\")(x)\n",
        "    x =  self.edge2([points,x]) \n",
        "    x =  lay.Activation(\"ReLU\")(x)\n",
        "    x =  self.edge3([points,x]) \n",
        "    x =  lay.Activation(\"ReLU\")(x)\n",
        "    \n",
        "    x  = self.GAP1D(x)\n",
        "    x  = self.Dense1(x)\n",
        "    x  = self.drop1(x)\n",
        "    out  = self.Dense2(x)\n",
        "  \n",
        "    return out\n"
      ],
      "execution_count": 19,
      "outputs": []
    },
    {
      "cell_type": "code",
      "metadata": {
        "id": "pfw3m3zjFBNg",
        "colab": {
          "base_uri": "https://localhost:8080/"
        },
        "outputId": "54ed6020-db5a-47cc-cc8f-16f163903a96"
      },
      "source": [
        "points.shape,feats.shape # Batch, nodos, caraceristicas\n"
      ],
      "execution_count": 20,
      "outputs": [
        {
          "output_type": "execute_result",
          "data": {
            "text/plain": [
              "(TensorShape([None, 500, 3]), TensorShape([None, 500, 1]))"
            ]
          },
          "metadata": {
            "tags": []
          },
          "execution_count": 20
        }
      ]
    },
    {
      "cell_type": "code",
      "metadata": {
        "id": "wPBks0mvU6sx"
      },
      "source": [
        "model_C = MyModel()"
      ],
      "execution_count": 21,
      "outputs": []
    },
    {
      "cell_type": "code",
      "metadata": {
        "id": "58qxZaKPWLuM",
        "colab": {
          "base_uri": "https://localhost:8080/"
        },
        "outputId": "6e1f6c89-95a4-4069-fd91-ccf6f5aacb73"
      },
      "source": [
        "model_C.build([points.shape,feats.shape])\n",
        "model_C.summary()"
      ],
      "execution_count": 22,
      "outputs": [
        {
          "output_type": "stream",
          "text": [
            "Model: \"my_model\"\n",
            "_________________________________________________________________\n",
            "Layer (type)                 Output Shape              Param #   \n",
            "=================================================================\n",
            "edge_conv_3 (EdgeConv)       multiple                  784       \n",
            "_________________________________________________________________\n",
            "edge_conv_4 (EdgeConv)       multiple                  3552      \n",
            "_________________________________________________________________\n",
            "edge_conv_5 (EdgeConv)       multiple                  13248     \n",
            "_________________________________________________________________\n",
            "dropout (Dropout)            multiple                  0         \n",
            "_________________________________________________________________\n",
            "batch_normalization (BatchNo multiple                  4         \n",
            "_________________________________________________________________\n",
            "global_average_pooling1d (Gl multiple                  0         \n",
            "_________________________________________________________________\n",
            "dense_1 (Dense)              multiple                  128256    \n",
            "_________________________________________________________________\n",
            "dense_2 (Dense)              multiple                  514       \n",
            "=================================================================\n",
            "Total params: 146,358\n",
            "Trainable params: 145,684\n",
            "Non-trainable params: 674\n",
            "_________________________________________________________________\n"
          ],
          "name": "stdout"
        }
      ]
    },
    {
      "cell_type": "code",
      "metadata": {
        "id": "bnPtT6m0WpCW"
      },
      "source": [
        "#Caída del LR\n",
        "#lr_schedule = tf.keras.optimizers.schedules.CosineDecay(1e-3,decay_steps=1000)\n",
        "lr_schedule = 1e-3\n",
        "model_C.compile(loss= \"categorical_crossentropy\",metrics=[\"acc\"], optimizer=keras.optimizers.Adam(learning_rate=lr_schedule))\n"
      ],
      "execution_count": 23,
      "outputs": []
    },
    {
      "cell_type": "code",
      "metadata": {
        "id": "L2ifmTxUWrRB",
        "colab": {
          "base_uri": "https://localhost:8080/"
        },
        "outputId": "1ce86c6a-aab9-4caf-d15f-ebbc9d7f3289"
      },
      "source": [
        "hist2 = model_C.fit(train_input_data, y_train, epochs=10, batch_size=64)"
      ],
      "execution_count": 24,
      "outputs": [
        {
          "output_type": "stream",
          "text": [
            "Epoch 1/10\n",
            "625/625 [==============================] - 198s 311ms/step - loss: 0.5543 - acc: 0.6889\n",
            "Epoch 2/10\n",
            "625/625 [==============================] - 194s 311ms/step - loss: 0.4566 - acc: 0.7739\n",
            "Epoch 3/10\n",
            "625/625 [==============================] - 194s 311ms/step - loss: 0.4114 - acc: 0.8088\n",
            "Epoch 4/10\n",
            "625/625 [==============================] - 194s 311ms/step - loss: 0.3748 - acc: 0.8321\n",
            "Epoch 5/10\n",
            "625/625 [==============================] - 194s 311ms/step - loss: 0.3333 - acc: 0.8566\n",
            "Epoch 6/10\n",
            "625/625 [==============================] - 194s 311ms/step - loss: 0.2872 - acc: 0.8819\n",
            "Epoch 7/10\n",
            "625/625 [==============================] - 194s 311ms/step - loss: 0.2473 - acc: 0.9018\n",
            "Epoch 8/10\n",
            "625/625 [==============================] - 194s 311ms/step - loss: 0.2049 - acc: 0.9223\n",
            "Epoch 9/10\n",
            "625/625 [==============================] - 194s 311ms/step - loss: 0.1670 - acc: 0.9377\n",
            "Epoch 10/10\n",
            "625/625 [==============================] - 194s 310ms/step - loss: 0.1312 - acc: 0.9525\n"
          ],
          "name": "stdout"
        }
      ]
    },
    {
      "cell_type": "code",
      "metadata": {
        "id": "1bZib0DUTxIu",
        "colab": {
          "base_uri": "https://localhost:8080/"
        },
        "outputId": "a578f5f4-b491-4d92-dc1a-0f3422829bf4"
      },
      "source": [
        "#Usando nuestros datos:\n",
        "model_C.predict([ np.reshape(X_train[0,:,0:3],(-1,500,3)),np.reshape(X_train[0,:,3],(-1,500,1)) ] ), y_train[0]\n"
      ],
      "execution_count": 25,
      "outputs": [
        {
          "output_type": "execute_result",
          "data": {
            "text/plain": [
              "(array([[6.2700775e-15, 1.0000000e+00]], dtype=float32),\n",
              " array([0., 1.], dtype=float32))"
            ]
          },
          "metadata": {
            "tags": []
          },
          "execution_count": 25
        }
      ]
    },
    {
      "cell_type": "code",
      "metadata": {
        "id": "1SXQGlH696xa",
        "colab": {
          "base_uri": "https://localhost:8080/",
          "height": 585
        },
        "outputId": "bce07adf-d66b-4995-9eef-15b928264fee"
      },
      "source": [
        "fig = plot_hist(hist2.history)\n",
        "fig.savefig(\"./history2.png\")"
      ],
      "execution_count": 26,
      "outputs": [
        {
          "output_type": "display_data",
          "data": {
            "image/png": "[encoded data removed]",
            "text/plain": [
              "<Figure size 864x576 with 2 Axes>"
            ]
          },
          "metadata": {
            "tags": [],
            "needs_background": "light"
          }
        }
      ]
    },
    {
      "cell_type": "markdown",
      "metadata": {
        "id": "z8CcHE0CrzLL"
      },
      "source": [
        "## Enlace a Git de nuestro intento de replicar:\n",
        "https://github.com/gsusAguirreArz/proyectoConexionistaA21\n"
      ]
    },
    {
      "cell_type": "markdown",
      "metadata": {
        "id": "wlWbpEEVrOFJ"
      },
      "source": [
        "## Referencias:\n",
        "\n",
        "- Bister, T., Erdmann, M., Glombitza, J., Langner, N., Schulte, J., & Wirtz, M. (2021). Identification of patterns in cosmic-ray arrival directions using dynamic graph convolutional neural networks. Astroparticle Physics, 126, 102527.\n",
        "https://www.sciencedirect.com/science/article/pii/S0927650520300992\n",
        "\n",
        "- Wang, Y., Sun, Y., Liu, Z., Sarma, S. E., Bronstein, M. M., & Solomon, J. M. (2019). Dynamic graph cnn for learning on point clouds. Acm Transactions On Graphics (tog), 38(5), 1-12. \\\n",
        "https://dl.acm.org/doi/abs/10.1145/3326362\n",
        "\n",
        "- EdgeConv \\\n",
        "https://git.rwth-aachen.de/niklas.langner/edgeconv_keras\n",
        "\n",
        "- SOURCE CODE FOR TORCH_GEOMETRIC.NN.CONV.EDGE_CONV \\\n",
        "https://pytorch-geometric.readthedocs.io/en/latest/_modules/torch_geometric/nn/conv/edge_conv.html"
      ]
    },
    {
      "cell_type": "code",
      "metadata": {
        "id": "wXcMeFB7PGdh"
      },
      "source": [
        ""
      ],
      "execution_count": 26,
      "outputs": []
    },
    {
      "cell_type": "code",
      "metadata": {
        "id": "2R5SDyIVkiVN"
      },
      "source": [
        ""
      ],
      "execution_count": 26,
      "outputs": []
    },
    {
      "cell_type": "markdown",
      "metadata": {
        "id": "5YZD2gRiks30"
      },
      "source": [
        "Pytorch_geometric"
      ]
    },
    {
      "cell_type": "code",
      "metadata": {
        "colab": {
          "base_uri": "https://localhost:8080/"
        },
        "id": "JQIeamGkaSC4",
        "outputId": "c54294d5-8d66-4185-d842-8e9f38ab5ab6"
      },
      "source": [
        "import time\n",
        "import sys\n",
        "\n",
        "import torch\n",
        "import torch as pt\n",
        "print(f\"Pytorch version: {torch.__version__}\")"
      ],
      "execution_count": 5,
      "outputs": [
        {
          "output_type": "stream",
          "text": [
            "Pytorch version: 1.9.0+cu102\n"
          ],
          "name": "stdout"
        }
      ]
    },
    {
      "cell_type": "code",
      "metadata": {
        "id": "FdnN6gnFlO6p"
      },
      "source": [
        ""
      ],
      "execution_count": 5,
      "outputs": []
    },
    {
      "cell_type": "code",
      "metadata": {
        "id": "CVACKTaJkuth",
        "colab": {
          "base_uri": "https://localhost:8080/"
        },
        "outputId": "31d147d6-e8cf-4341-ec11-808b42b0fbc3"
      },
      "source": [
        "try:\n",
        "  import torch_geometric as ptg\n",
        "except ModuleNotFoundError: \n",
        "  print(\"Instalando entonces:\\n\")\n",
        "  !pip install torch-scatter -f https://pytorch-geometric.com/whl/torch-1.9.0+cu102.html\n",
        "  !pip install torch-sparse -f https://pytorch-geometric.com/whl/torch-1.9.0+cu102.html\n",
        "  !pip install torch-cluster -f https://pytorch-geometric.com/whl/torch-1.9.0+cu102.html\n",
        "  !pip install torch-spline-conv -f https://pytorch-geometric.com/whl/torch-1.9.0+cu102.html\n",
        "  !pip install torch-geometric\n",
        "  import torch_geometric as ptg"
      ],
      "execution_count": 6,
      "outputs": [
        {
          "output_type": "stream",
          "text": [
            "Instalando entonces:\n",
            "\n",
            "Looking in links: https://pytorch-geometric.com/whl/torch-1.9.0+cu102.html\n",
            "Collecting torch-scatter\n",
            "\u001b[?25l  Downloading https://pytorch-geometric.com/whl/torch-1.9.0%2Bcu102/torch_scatter-2.0.7-cp37-cp37m-linux_x86_64.whl (2.6MB)\n",
            "\u001b[K     |████████████████████████████████| 2.6MB 11.7MB/s \n",
            "\u001b[?25hInstalling collected packages: torch-scatter\n",
            "Successfully installed torch-scatter-2.0.7\n",
            "Looking in links: https://pytorch-geometric.com/whl/torch-1.9.0+cu102.html\n",
            "Collecting torch-sparse\n",
            "\u001b[?25l  Downloading https://pytorch-geometric.com/whl/torch-1.9.0%2Bcu102/torch_sparse-0.6.10-cp37-cp37m-linux_x86_64.whl (1.4MB)\n",
            "\u001b[K     |████████████████████████████████| 1.4MB 10.7MB/s \n",
            "\u001b[?25hRequirement already satisfied: scipy in /usr/local/lib/python3.7/dist-packages (from torch-sparse) (1.4.1)\n",
            "Requirement already satisfied: numpy>=1.13.3 in /usr/local/lib/python3.7/dist-packages (from scipy->torch-sparse) (1.19.5)\n",
            "Installing collected packages: torch-sparse\n",
            "Successfully installed torch-sparse-0.6.10\n",
            "Looking in links: https://pytorch-geometric.com/whl/torch-1.9.0+cu102.html\n",
            "Collecting torch-cluster\n",
            "\u001b[?25l  Downloading https://pytorch-geometric.com/whl/torch-1.9.0%2Bcu102/torch_cluster-1.5.9-cp37-cp37m-linux_x86_64.whl (926kB)\n",
            "\u001b[K     |████████████████████████████████| 931kB 12.5MB/s \n",
            "\u001b[?25hInstalling collected packages: torch-cluster\n",
            "Successfully installed torch-cluster-1.5.9\n",
            "Looking in links: https://pytorch-geometric.com/whl/torch-1.9.0+cu102.html\n",
            "Collecting torch-spline-conv\n",
            "\u001b[?25l  Downloading https://pytorch-geometric.com/whl/torch-1.9.0%2Bcu102/torch_spline_conv-1.2.1-cp37-cp37m-linux_x86_64.whl (368kB)\n",
            "\u001b[K     |████████████████████████████████| 368kB 9.9MB/s \n",
            "\u001b[?25hInstalling collected packages: torch-spline-conv\n",
            "Successfully installed torch-spline-conv-1.2.1\n",
            "Collecting torch-geometric\n",
            "\u001b[?25l  Downloading https://files.pythonhosted.org/packages/33/4b/9f6bb94ccd93f3c9324cb6b7c5742dfaf3c3a5127604cf5195a1901d048c/torch_geometric-1.7.1.tar.gz (222kB)\n",
            "\u001b[K     |████████████████████████████████| 225kB 13.9MB/s \n",
            "\u001b[?25hRequirement already satisfied: numpy in /usr/local/lib/python3.7/dist-packages (from torch-geometric) (1.19.5)\n",
            "Requirement already satisfied: tqdm in /usr/local/lib/python3.7/dist-packages (from torch-geometric) (4.41.1)\n",
            "Requirement already satisfied: scipy in /usr/local/lib/python3.7/dist-packages (from torch-geometric) (1.4.1)\n",
            "Requirement already satisfied: networkx in /usr/local/lib/python3.7/dist-packages (from torch-geometric) (2.5.1)\n",
            "Requirement already satisfied: python-louvain in /usr/local/lib/python3.7/dist-packages (from torch-geometric) (0.15)\n",
            "Requirement already satisfied: scikit-learn in /usr/local/lib/python3.7/dist-packages (from torch-geometric) (0.22.2.post1)\n",
            "Requirement already satisfied: requests in /usr/local/lib/python3.7/dist-packages (from torch-geometric) (2.23.0)\n",
            "Requirement already satisfied: pandas in /usr/local/lib/python3.7/dist-packages (from torch-geometric) (1.1.5)\n",
            "Collecting rdflib\n",
            "\u001b[?25l  Downloading https://files.pythonhosted.org/packages/d0/6b/6454aa1db753c0f8bc265a5bd5c10b5721a4bb24160fb4faf758cf6be8a1/rdflib-5.0.0-py3-none-any.whl (231kB)\n",
            "\u001b[K     |████████████████████████████████| 235kB 26.6MB/s \n",
            "\u001b[?25hRequirement already satisfied: googledrivedownloader in /usr/local/lib/python3.7/dist-packages (from torch-geometric) (0.4)\n",
            "Requirement already satisfied: jinja2 in /usr/local/lib/python3.7/dist-packages (from torch-geometric) (2.11.3)\n",
            "Requirement already satisfied: decorator<5,>=4.3 in /usr/local/lib/python3.7/dist-packages (from networkx->torch-geometric) (4.4.2)\n",
            "Requirement already satisfied: joblib>=0.11 in /usr/local/lib/python3.7/dist-packages (from scikit-learn->torch-geometric) (1.0.1)\n",
            "Requirement already satisfied: certifi>=2017.4.17 in /usr/local/lib/python3.7/dist-packages (from requests->torch-geometric) (2021.5.30)\n",
            "Requirement already satisfied: chardet<4,>=3.0.2 in /usr/local/lib/python3.7/dist-packages (from requests->torch-geometric) (3.0.4)\n",
            "Requirement already satisfied: idna<3,>=2.5 in /usr/local/lib/python3.7/dist-packages (from requests->torch-geometric) (2.10)\n",
            "Requirement already satisfied: urllib3!=1.25.0,!=1.25.1,<1.26,>=1.21.1 in /usr/local/lib/python3.7/dist-packages (from requests->torch-geometric) (1.24.3)\n",
            "Requirement already satisfied: pytz>=2017.2 in /usr/local/lib/python3.7/dist-packages (from pandas->torch-geometric) (2018.9)\n",
            "Requirement already satisfied: python-dateutil>=2.7.3 in /usr/local/lib/python3.7/dist-packages (from pandas->torch-geometric) (2.8.1)\n",
            "Requirement already satisfied: six in /usr/local/lib/python3.7/dist-packages (from rdflib->torch-geometric) (1.15.0)\n",
            "Requirement already satisfied: pyparsing in /usr/local/lib/python3.7/dist-packages (from rdflib->torch-geometric) (2.4.7)\n",
            "Collecting isodate\n",
            "\u001b[?25l  Downloading https://files.pythonhosted.org/packages/9b/9f/b36f7774ff5ea8e428fdcfc4bb332c39ee5b9362ddd3d40d9516a55221b2/isodate-0.6.0-py2.py3-none-any.whl (45kB)\n",
            "\u001b[K     |████████████████████████████████| 51kB 6.8MB/s \n",
            "\u001b[?25hRequirement already satisfied: MarkupSafe>=0.23 in /usr/local/lib/python3.7/dist-packages (from jinja2->torch-geometric) (2.0.1)\n",
            "Building wheels for collected packages: torch-geometric\n",
            "  Building wheel for torch-geometric (setup.py) ... \u001b[?25l\u001b[?25hdone\n",
            "  Created wheel for torch-geometric: filename=torch_geometric-1.7.1-cp37-none-any.whl size=381206 sha256=d6bf38846be2e60148749723f23cf1ce55cba9292e11f486888ecddbc5ec3798\n",
            "  Stored in directory: /root/.cache/pip/wheels/f3/97/91/7572ed6157a4c1ccef22a91a7ae9365413b57bb1a65d6056fa\n",
            "Successfully built torch-geometric\n",
            "Installing collected packages: isodate, rdflib, torch-geometric\n",
            "Successfully installed isodate-0.6.0 rdflib-5.0.0 torch-geometric-1.7.1\n"
          ],
          "name": "stdout"
        }
      ]
    },
    {
      "cell_type": "code",
      "metadata": {
        "id": "H7t_HkUUk5Qe"
      },
      "source": [
        "from torch.nn import functional as F \n",
        "from torch.nn import Sequential as Seq\n",
        "from torch.nn import BatchNorm1d as BN\n",
        "from torch.nn import Linear, ReLU, Module\n",
        "\n",
        "from torch_geometric.data import Data, DataLoader\n",
        "from torch_geometric.nn import global_mean_pool\n",
        "\n",
        "from torch_geometric.nn import MessagePassing, DynamicEdgeConv, global_max_pool, global_mean_pool\n",
        "from torchsummary import summary"
      ],
      "execution_count": 7,
      "outputs": []
    },
    {
      "cell_type": "code",
      "metadata": {
        "id": "EsUQynjcNS7O"
      },
      "source": [
        "device = pt.device('cuda' if pt.cuda.is_available() else 'cpu')\n"
      ],
      "execution_count": 8,
      "outputs": []
    },
    {
      "cell_type": "code",
      "metadata": {
        "id": "av4glVzwZy0m"
      },
      "source": [
        "#arreglos a tensores\n",
        "train_points    = pt.tensor(X_train[...,:3]).type(pt.float32)\n",
        "train_features  = pt.tensor(X_train[...,-1, np.newaxis]).type(pt.float32) \n",
        "y_train_pt      = pt.tensor(y_train.reshape(-1,1)).type(pt.long)\n",
        "test_points     = pt.tensor(X_test[...,:3]).type(pt.float32)\n",
        "test_features   = pt.tensor(X_test[...,-1, np.newaxis]).type(pt.float32) \n",
        "y_test_pt       = pt.tensor(y_test.reshape(-1,1)).type(pt.long)"
      ],
      "execution_count": 24,
      "outputs": []
    },
    {
      "cell_type": "code",
      "metadata": {
        "id": "pwf20Zv-bQWu"
      },
      "source": [
        "#Data Loaders\n",
        "N_TRAIN = X_train.shape[0]\n",
        "BATCH_SIZE = 64\n",
        "\n",
        "\n",
        "train_dset = [Data(pos=train_points[i],x=train_features[i], y=y_train_pt[i]) for i in range(len(train_points))]\n",
        "test_dset  = [Data(pos=test_points[i], x=test_features[i],  y=y_test_pt[i])  for i in range(len(test_points))]\n",
        "\n",
        "train_loadr = DataLoader(train_dset, batch_size=BATCH_SIZE, shuffle=True)\n",
        "test_loadr  = DataLoader(test_dset,  batch_size=BATCH_SIZE, shuffle=True)"
      ],
      "execution_count": 25,
      "outputs": []
    },
    {
      "cell_type": "code",
      "metadata": {
        "colab": {
          "base_uri": "https://localhost:8080/"
        },
        "id": "g-_nZTXdcXhl",
        "outputId": "04bff72b-0538-467e-c338-2542ea5cfc5f"
      },
      "source": [
        "for i in train_loadr:\n",
        "  print(i.pos.shape)\n",
        "  break"
      ],
      "execution_count": 26,
      "outputs": [
        {
          "output_type": "stream",
          "text": [
            "torch.Size([32000, 3])\n"
          ],
          "name": "stdout"
        }
      ]
    },
    {
      "cell_type": "code",
      "metadata": {
        "colab": {
          "base_uri": "https://localhost:8080/"
        },
        "id": "9NXZvQgrjQY-",
        "outputId": "a35b7413-929f-4c66-8c72-37d006f63fbc"
      },
      "source": [
        "for i in train_loadr:\n",
        "  print(i.pos.shape ,type(i.x))\n",
        "  concat=torch.cat([i.pos,i.x],dim=1)\n",
        "  print(concat.shape)\n",
        "  break"
      ],
      "execution_count": 27,
      "outputs": [
        {
          "output_type": "stream",
          "text": [
            "torch.Size([32000, 3]) <class 'torch.Tensor'>\n",
            "torch.Size([32000, 4])\n"
          ],
          "name": "stdout"
        }
      ]
    },
    {
      "cell_type": "code",
      "metadata": {
        "id": "83DXsV_xdf4M"
      },
      "source": [
        "#Kernel_nn\n",
        "NODES = 16\n",
        "INPUT_SIZE = 2*4\n",
        "N_LAYERS = 3\n",
        "\n",
        "def kernel_MLP(config_chan):\n",
        "  model = Seq(*[Seq(Linear(config_chan[i-1], config_chan[i]),\n",
        "                ReLU(),\n",
        "                BN(config_chan[i])) for i in range(1,len(config_chan))])\n",
        "  return model\n",
        "\n",
        "def configCh(input_size=INPUT_SIZE, nodes=NODES, n_layers=N_LAYERS):\n",
        "  config_arr = [nodes]*(n_layers + 1)\n",
        "  config_arr[0] = input_size\n",
        "  return config_arr\n",
        "\n"
      ],
      "execution_count": 28,
      "outputs": []
    },
    {
      "cell_type": "code",
      "metadata": {
        "colab": {
          "base_uri": "https://localhost:8080/"
        },
        "id": "g3Qi_nSpgK78",
        "outputId": "a5cd2858-1508-4636-8a10-a286b495543b"
      },
      "source": [
        "model = kernel_MLP(configCh()).to(device)\n",
        "print(summary(model, ( 16, 2*4)))"
      ],
      "execution_count": 29,
      "outputs": [
        {
          "output_type": "stream",
          "text": [
            "----------------------------------------------------------------\n",
            "        Layer (type)               Output Shape         Param #\n",
            "================================================================\n",
            "            Linear-1               [-1, 16, 16]             144\n",
            "              ReLU-2               [-1, 16, 16]               0\n",
            "       BatchNorm1d-3               [-1, 16, 16]              32\n",
            "            Linear-4               [-1, 16, 16]             272\n",
            "              ReLU-5               [-1, 16, 16]               0\n",
            "       BatchNorm1d-6               [-1, 16, 16]              32\n",
            "            Linear-7               [-1, 16, 16]             272\n",
            "              ReLU-8               [-1, 16, 16]               0\n",
            "       BatchNorm1d-9               [-1, 16, 16]              32\n",
            "================================================================\n",
            "Total params: 784\n",
            "Trainable params: 784\n",
            "Non-trainable params: 0\n",
            "----------------------------------------------------------------\n",
            "Input size (MB): 0.00\n",
            "Forward/backward pass size (MB): 0.02\n",
            "Params size (MB): 0.00\n",
            "Estimated Total Size (MB): 0.02\n",
            "----------------------------------------------------------------\n",
            "None\n"
          ],
          "name": "stdout"
        }
      ]
    },
    {
      "cell_type": "code",
      "metadata": {
        "id": "2diQ3M6chxF1"
      },
      "source": [
        ""
      ],
      "execution_count": null,
      "outputs": []
    },
    {
      "cell_type": "code",
      "metadata": {
        "id": "YcNI9BcWdved"
      },
      "source": [
        "class DGCN(Module):\n",
        "  def __init__(self):\n",
        "    super(DGCN, self).__init__()\n",
        "    # self.edgeconv1 = DynamicEdgeConv(kernel_MLP([2*3,8,8,8]), k=5, aggr=\"mean\")\n",
        "    # self.edgeconv2 = DynamicEdgeConv(kernel_MLP([2*8,16,16,16]), k=8, aggr=\"mean\")\n",
        "    # self.edgeconv3 = DynamicEdgeConv(kernel_MLP([2*16,32,32,32]), k=16, aggr=\"mean\")\n",
        "\n",
        "    self.edgeconv1 = DynamicEdgeConv(kernel_MLP(configCh(2*4,8)), k=5, aggr=\"mean\")\n",
        "    self.edgeconv2 = DynamicEdgeConv(kernel_MLP(configCh(2*8,16)), k=8, aggr=\"mean\")\n",
        "    self.edgeconv3 = DynamicEdgeConv(kernel_MLP(configCh(2*16,32)), k=16, aggr=\"mean\")\n",
        "    self.out = Linear(32,1)\n",
        "\n",
        "  def forward(self, data):\n",
        "    points, feats, batch  = data.pos, data.x, data.batch\n",
        "\n",
        "    l1 = self.edgeconv1(torch.cat([points,feats],dim=1), batch )\n",
        "    l1 = F.relu(l1)\n",
        "\n",
        "    l2 = self.edgeconv2(l1, batch)\n",
        "    l2 = F.relu(l2)\n",
        "\n",
        "    l3 = self.edgeconv3(l2, batch)\n",
        "    l3 = F.relu(l3)\n",
        "    l3 = global_mean_pool(l3, batch)\n",
        "\n",
        "    out = self.out(l3)\n",
        "    out = F.softmax(l3, dim=1)\n",
        "    # out = F.log_softmax(l3,dim=1)\n",
        "    return out"
      ],
      "execution_count": 30,
      "outputs": []
    },
    {
      "cell_type": "code",
      "metadata": {
        "id": "x9QlW43_1AV8",
        "colab": {
          "base_uri": "https://localhost:8080/"
        },
        "outputId": "c761829b-4d6b-45e8-c7b9-f5e4f7ebda9b"
      },
      "source": [
        "model = DGCN()\n",
        "for i in train_loadr:\n",
        "  print(model(i).shape)\n",
        "  break"
      ],
      "execution_count": 31,
      "outputs": [
        {
          "output_type": "stream",
          "text": [
            "torch.Size([64, 32])\n"
          ],
          "name": "stdout"
        }
      ]
    },
    {
      "cell_type": "code",
      "metadata": {
        "colab": {
          "base_uri": "https://localhost:8080/"
        },
        "id": "S70cP20hd33b",
        "outputId": "c6ca212c-3310-4e01-bf17-ffe37f4806f5"
      },
      "source": [
        "for name, param in model.named_parameters():\n",
        "  print(f'{name}: \\t {param.numel()}')\n"
      ],
      "execution_count": 32,
      "outputs": [
        {
          "output_type": "stream",
          "text": [
            "edgeconv1.nn.0.0.weight: \t 64\n",
            "edgeconv1.nn.0.0.bias: \t 8\n",
            "edgeconv1.nn.0.2.weight: \t 8\n",
            "edgeconv1.nn.0.2.bias: \t 8\n",
            "edgeconv1.nn.1.0.weight: \t 64\n",
            "edgeconv1.nn.1.0.bias: \t 8\n",
            "edgeconv1.nn.1.2.weight: \t 8\n",
            "edgeconv1.nn.1.2.bias: \t 8\n",
            "edgeconv1.nn.2.0.weight: \t 64\n",
            "edgeconv1.nn.2.0.bias: \t 8\n",
            "edgeconv1.nn.2.2.weight: \t 8\n",
            "edgeconv1.nn.2.2.bias: \t 8\n",
            "edgeconv2.nn.0.0.weight: \t 256\n",
            "edgeconv2.nn.0.0.bias: \t 16\n",
            "edgeconv2.nn.0.2.weight: \t 16\n",
            "edgeconv2.nn.0.2.bias: \t 16\n",
            "edgeconv2.nn.1.0.weight: \t 256\n",
            "edgeconv2.nn.1.0.bias: \t 16\n",
            "edgeconv2.nn.1.2.weight: \t 16\n",
            "edgeconv2.nn.1.2.bias: \t 16\n",
            "edgeconv2.nn.2.0.weight: \t 256\n",
            "edgeconv2.nn.2.0.bias: \t 16\n",
            "edgeconv2.nn.2.2.weight: \t 16\n",
            "edgeconv2.nn.2.2.bias: \t 16\n",
            "edgeconv3.nn.0.0.weight: \t 1024\n",
            "edgeconv3.nn.0.0.bias: \t 32\n",
            "edgeconv3.nn.0.2.weight: \t 32\n",
            "edgeconv3.nn.0.2.bias: \t 32\n",
            "edgeconv3.nn.1.0.weight: \t 1024\n",
            "edgeconv3.nn.1.0.bias: \t 32\n",
            "edgeconv3.nn.1.2.weight: \t 32\n",
            "edgeconv3.nn.1.2.bias: \t 32\n",
            "edgeconv3.nn.2.0.weight: \t 1024\n",
            "edgeconv3.nn.2.0.bias: \t 32\n",
            "edgeconv3.nn.2.2.weight: \t 32\n",
            "edgeconv3.nn.2.2.bias: \t 32\n",
            "out.weight: \t 32\n",
            "out.bias: \t 1\n"
          ],
          "name": "stdout"
        }
      ]
    },
    {
      "cell_type": "code",
      "metadata": {
        "colab": {
          "base_uri": "https://localhost:8080/"
        },
        "id": "599fSyCseItP",
        "outputId": "ff56a74f-32cb-4ebe-c4bb-2084ac0b8258"
      },
      "source": [
        "# Contar el numero de parametros entrenables y el numero de parametros totales\n",
        "params = sum(p.numel() for p in model.parameters())\n",
        "params_grad = sum(p.numel() for p in model.parameters() if p.requires_grad)\n",
        "\n",
        "print(f'parametros entrenables: {params_grad}')\n",
        "print(f'total de paraemtros: {params}')"
      ],
      "execution_count": 33,
      "outputs": [
        {
          "output_type": "stream",
          "text": [
            "parametros entrenables: 4569\n",
            "total de paraemtros: 4569\n"
          ],
          "name": "stdout"
        }
      ]
    },
    {
      "cell_type": "code",
      "metadata": {
        "id": "SzFUMCXqeQnO"
      },
      "source": [
        "device = pt.device('cuda' if pt.cuda.is_available() else 'cpu')\n",
        "modelTorch = DGCN().to(device)\n",
        "optimizer = pt.optim.Adam(modelTorch.parameters(), lr=3E-3)\n",
        "# criterion = \n",
        "scheduler = pt.optim.lr_scheduler.StepLR(optimizer, step_size=20, gamma=0.5)\n",
        "\n",
        "N_BATCH= N_TRAIN/BATCH_SIZE\n",
        "def train_step(modelTorch, loader):\n",
        "    modelTorch.train()\n",
        "\n",
        "    total_loss = 0\n",
        "    acc_sum = 0\n",
        "\n",
        "    # for data in loader:\n",
        "    for i,data in enumerate(loader):\n",
        "        data = data.to(device)\n",
        "        optimizer.zero_grad()\n",
        "        out = modelTorch(data)\n",
        "        loss = F.nll_loss(out, data.y)\n",
        "        # loss = F.binary_cross_entropy(out, data.y)\n",
        "        loss.backward()\n",
        "        total_loss += loss.item() * data.num_graphs\n",
        "        optimizer.step()\n",
        "\n",
        "        sys.stdout.write('\\r')\n",
        "        sys.stdout.write(\"[%-60s] %d%%\" % ('='*int((60*(i+1)/N_BATCH)) + '>', (100*(i+1)/N_BATCH)))\n",
        "        sys.stdout.flush()\n",
        "        sys.stdout.write(\", batch %d\"% (i+1))\n",
        "        sys.stdout.flush()\n",
        "\n",
        "    return total_loss / len(loader.dataset)\n",
        "\n",
        "def test_step(modelTorch, loader):\n",
        "    modelTorch.eval()\n",
        "\n",
        "    correct = 0\n",
        "    for data in loader:\n",
        "        data = data.to(device)\n",
        "        with pt.no_grad():\n",
        "            pred = model(data).max(dim=1)[1]\n",
        "        correct += pred.eq(data.y).sum().item()\n",
        "    return correct / len(loader.dataset)\n",
        "\n",
        "\n",
        "def fit(model, train_lodr, test_lodr, EPOCHS):\n",
        "  hist = {'train':{'loss':[]}, 'test':{'acc':[]}}\n",
        "  for epoch in range(EPOCHS):\n",
        "\n",
        "    start_time = time.time()\n",
        "    epoch_train_loss = train_step(model, train_lodr)\n",
        "    epoch_test_acc = test_step(model,test_lodr)\n",
        "    elapsed_time = time.time() - start_time\n",
        "\n",
        "    hist['train']['loss'].append(epoch_train_loss)\n",
        "    hist['test']['acc'].append(epoch_test_acc)\n",
        "\n",
        "    division = '-'*80\n",
        "    template = 'Epoch: {:03}/{:03} | Time: {:.2f}s | Train loss: {:.4f} | Dev acc: {:.4f}'\n",
        "\n",
        "    print(division)\n",
        "    print(template.format(epoch + 1, EPOCHS, elapsed_time,epoch_train_loss, epoch_test_acc))\n",
        "\n",
        "    scheduler.step()"
      ],
      "execution_count": 34,
      "outputs": []
    },
    {
      "cell_type": "code",
      "metadata": {
        "colab": {
          "base_uri": "https://localhost:8080/"
        },
        "id": "xLzniU_MeZv6",
        "outputId": "d22fff7f-e862-4832-9c6d-3705ad5802c3"
      },
      "source": [
        "hist = fit(modelTorch, train_loadr, test_loadr, 5)"
      ],
      "execution_count": null,
      "outputs": [
        {
          "output_type": "stream",
          "text": [
            "[====================>                                       ] 33%, batch 209"
          ],
          "name": "stdout"
        }
      ]
    },
    {
      "cell_type": "code",
      "metadata": {
        "id": "CK0MJS49n18R"
      },
      "source": [
        ""
      ],
      "execution_count": null,
      "outputs": []
    }
  ]
}