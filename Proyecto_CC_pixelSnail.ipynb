{
  "nbformat": 4,
  "nbformat_minor": 0,
  "metadata": {
    "colab": {
      "name": "Proyecto CC - pixelSnail",
      "provenance": [],
      "authorship_tag": "ABX9TyP+89Czz8C04OGpaqNxcBB2",
      "include_colab_link": true
    },
    "kernelspec": {
      "name": "python3",
      "display_name": "Python 3"
    },
    "language_info": {
      "name": "python"
    }
  },
  "cells": [
    {
      "cell_type": "markdown",
      "metadata": {
        "id": "view-in-github",
        "colab_type": "text"
      },
      "source": [
        "<a href=\"https://colab.research.google.com/github/gsusAguirreArz/proyectoConexionistaA21/blob/master/Proyecto_CC_pixelSnail.ipynb\" target=\"_parent\"><img src=\"https://colab.research.google.com/assets/colab-badge.svg\" alt=\"Open In Colab\"/></a>"
      ]
    },
    {
      "cell_type": "code",
      "metadata": {
        "id": "PKs1UgORcyKc"
      },
      "source": [
        ""
      ],
      "execution_count": null,
      "outputs": []
    },
    {
      "cell_type": "markdown",
      "metadata": {
        "id": "EX1fBe-AdMPW"
      },
      "source": [
        "Texto AQUI yo puse algo :P \n"
      ]
    },
    {
      "cell_type": "code",
      "metadata": {
        "id": "FqiZlz1od8jM"
      },
      "source": [
        "#Código 1"
      ],
      "execution_count": null,
      "outputs": []
    },
    {
      "cell_type": "code",
      "metadata": {
        "id": "yq4NIRBmd97H"
      },
      "source": [
        "#Código 2 :D "
      ],
      "execution_count": null,
      "outputs": []
    }
  ]
}